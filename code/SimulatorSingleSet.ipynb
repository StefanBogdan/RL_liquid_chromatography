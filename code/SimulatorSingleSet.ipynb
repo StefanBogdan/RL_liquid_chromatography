{
 "cells": [
  {
   "cell_type": "markdown",
   "metadata": {},
   "source": [
    "## Library imports"
   ]
  },
  {
   "cell_type": "code",
   "execution_count": 1,
   "metadata": {
    "scrolled": true
   },
   "outputs": [],
   "source": [
    "import numpy as np\n",
    "import pandas as pd\n",
    "from chromatography import ExperimentAnalytes\n",
    "from separation_utility import *\n",
    "from torch import optim, tensor\n",
    "import matplotlib.pyplot as plt\n",
    "%matplotlib qt"
   ]
  },
  {
   "cell_type": "markdown",
   "metadata": {},
   "source": [
    "## Dataset Import"
   ]
  },
  {
   "cell_type": "code",
   "execution_count": 2,
   "metadata": {},
   "outputs": [],
   "source": [
    "sample = 'GilarSample'\n",
    "alist = pd.read_csv(f'../data/{sample}.csv')\n",
    "# GilarSample\n",
    "# Peterpeptides\n",
    "# Roca\n",
    "# Peter32\n",
    "# Eosin\n",
    "# Alizarin\n",
    "# Controlmix1\n",
    "# Controlmix2\n",
    "#alist['k0'] = np.exp(alist.lnk0)"
   ]
  },
  {
   "cell_type": "markdown",
   "metadata": {},
   "source": [
    "## Useful functions definition"
   ]
  },
  {
   "cell_type": "code",
   "execution_count": 3,
   "metadata": {},
   "outputs": [],
   "source": [
    "def loss_field(exp, taus, N = 200):\n",
    "    phis = np.linspace(0, 1, N)\n",
    "    losses = np.zeros((N, N))\n",
    "    j = 0\n",
    "    for phi1 in phis:\n",
    "        i = 0\n",
    "        for phi2 in phis:\n",
    "            exp.reset()\n",
    "            exp.run_all([phi1, phi2], taus)\n",
    "            losses[i, j] = exp.loss()\n",
    "            i += 1\n",
    "        j += 1\n",
    "    X, Y = np.meshgrid(phis, phis)\n",
    "    \n",
    "    return X, Y, losses"
   ]
  },
  {
   "cell_type": "code",
   "execution_count": 8,
   "metadata": {},
   "outputs": [],
   "source": [
    "# Parameters\n",
    "run_time_lim = 10.0\n",
    "sigma_max = 0.2\n",
    "delta_taus = [.25, .25, 10]\n",
    "num_episodes = 5000\n",
    "batch_size = 10\n",
    "lr = .1\n",
    "optim = lambda a, b: torch.optim.SGD(a, b, momentum=0.65)\n",
    "lr_decay_factor = .5\n",
    "lr_milestones = 1000\n",
    "print_every= 100\n",
    "baseline = 0.55\n",
    "max_norm = 2.\n",
    "beta = .0\n",
    "weights = [1., 1.]\n",
    "delta_loss = True"
   ]
  },
  {
   "cell_type": "code",
   "execution_count": 13,
   "metadata": {},
   "outputs": [
    {
     "name": "stdout",
     "output_type": "stream",
     "text": [
      "Loss: 0.21917262400235593, epoch: 100/5000\n",
      "Loss: 0.1933540187897394, epoch: 200/5000\n",
      "Loss: 0.21800885394255456, epoch: 300/5000\n",
      "Loss: 0.2103708075015016, epoch: 400/5000\n",
      "Loss: 0.21859972022571802, epoch: 500/5000\n",
      "Loss: 0.41286449703036593, epoch: 600/5000\n",
      "Loss: 0.40024844039780766, epoch: 700/5000\n",
      "Loss: 0.4225629241950073, epoch: 800/5000\n",
      "Loss: 0.35540817409455977, epoch: 900/5000\n",
      "Loss: 0.31439197574269817, epoch: 1000/5000\n",
      "Loss: 0.26112815417235463, epoch: 1100/5000\n",
      "Loss: 0.1784829513703677, epoch: 1200/5000\n",
      "Loss: 0.20756976277400535, epoch: 1300/5000\n",
      "Loss: 0.17514398795474478, epoch: 1400/5000\n",
      "Loss: 0.19543088448388474, epoch: 1500/5000\n",
      "Loss: 0.2039204068533916, epoch: 1600/5000\n",
      "Loss: 0.18828188188041456, epoch: 1700/5000\n",
      "Loss: 0.22337924966415335, epoch: 1800/5000\n",
      "Loss: 0.25539112528987484, epoch: 1900/5000\n",
      "Loss: 0.2565234634176091, epoch: 2000/5000\n",
      "Loss: 0.2350288897047228, epoch: 2100/5000\n",
      "Loss: 0.19216414546388955, epoch: 2200/5000\n",
      "Loss: 0.17579152039584384, epoch: 2300/5000\n",
      "Loss: 0.20679822550485055, epoch: 2400/5000\n",
      "Loss: 0.2764940563284916, epoch: 2500/5000\n",
      "Loss: 0.20685166761772625, epoch: 2600/5000\n",
      "Loss: 0.21894242920227333, epoch: 2700/5000\n",
      "Loss: 0.1882424717420334, epoch: 2800/5000\n",
      "Loss: 0.20833557300203429, epoch: 2900/5000\n",
      "Loss: 0.19695117681869773, epoch: 3000/5000\n",
      "Loss: 0.1876050191330732, epoch: 3100/5000\n",
      "Loss: 0.18337648937784323, epoch: 3200/5000\n",
      "Loss: 0.1735093674390059, epoch: 3300/5000\n",
      "Loss: 0.18663458662179017, epoch: 3400/5000\n",
      "Loss: 0.2433292761204632, epoch: 3500/5000\n",
      "Loss: 0.1981575104864624, epoch: 3600/5000\n",
      "Loss: 0.1900747980569749, epoch: 3700/5000\n",
      "Loss: 0.16841094467166404, epoch: 3800/5000\n",
      "Loss: 0.1779694373052362, epoch: 3900/5000\n",
      "Loss: 0.18461504373247659, epoch: 4000/5000\n",
      "Loss: 0.16717358599333848, epoch: 4100/5000\n",
      "Loss: 0.2070059887533387, epoch: 4200/5000\n",
      "Loss: 0.16779423119815326, epoch: 4300/5000\n",
      "Loss: 0.2264073794036588, epoch: 4400/5000\n",
      "Loss: 0.1883769981713254, epoch: 4500/5000\n",
      "Loss: 0.17106080661570972, epoch: 4600/5000\n",
      "Loss: 0.19821401583547277, epoch: 4700/5000\n",
      "Loss: 0.19369789896149275, epoch: 4800/5000\n",
      "Loss: 0.19551732386512877, epoch: 4900/5000\n",
      "Loss: 0.17976676206183811, epoch: 5000/5000\n"
     ]
    }
   ],
   "source": [
    "exp = ExperimentAnalytes(k0 = alist.k0.values, S = alist.S.values, h=0.001, run_time=10.0)\n",
    "pol = PolicySingle(len(delta_taus), sigma_max = sigma_max)\n",
    "losses, best_program, mus, sigmas = reinforce_one_set(\n",
    "        exp, \n",
    "        pol, \n",
    "        delta_taus= delta_taus, \n",
    "        num_episodes=num_episodes, \n",
    "        batch_size=batch_size,\n",
    "        optim=optim,\n",
    "        lr=lr, \n",
    "        print_every=print_every,\n",
    "        lr_decay_factor=lr_decay_factor,\n",
    "        lr_milestones=lr_milestones,\n",
    "        baseline=baseline,\n",
    "        max_norm=max_norm,\n",
    "        beta=beta,\n",
    "        #lim=lim\n",
    "    )"
   ]
  },
  {
   "cell_type": "code",
   "execution_count": 15,
   "metadata": {},
   "outputs": [
    {
     "data": {
      "text/plain": [
       "<matplotlib.legend.Legend at 0x7f0a0d47e910>"
      ]
     },
     "execution_count": 15,
     "metadata": {},
     "output_type": "execute_result"
    }
   ],
   "source": [
    "exp.reset()\n",
    "exp.run_all(pol.mu.detach().numpy(), delta_taus)\n",
    "exp.print_analytes(rc=(7, 5), angle=45,  title=f'Solvent Strength function\\nLoss: {round(exp.loss(),4)}')\n",
    "plt.show()\n",
    "plt.legend()\n",
    "#plt.savefig(f'results/{sample}_result_{run}.png')"
   ]
  },
  {
   "cell_type": "code",
   "execution_count": null,
   "metadata": {},
   "outputs": [],
   "source": [
    "exp.reset()\n",
    "exp.run_all(best_program.numpy(), taus)\n",
    "exp.print_analytes(rc=(7, 5), angle=45,  title=f'Solvent Strength function\\nLoss: {round(exp.loss(),4)}')\n",
    "plt.legend()\n",
    "plt.savefig(f'results/{sample}_best_result_{run}.png')"
   ]
  },
  {
   "cell_type": "code",
   "execution_count": null,
   "metadata": {},
   "outputs": [],
   "source": [
    "plt.plot(mus[:, 0], label='Mu: phi1')\n",
    "plt.plot(mus[:, 1], label='Mu: phi2')\n",
    "#plt.plot(mus[:, 2], label='Mu: phi3')\n",
    "#plt.plot(mus[:, 3], label='Mu: phi4')\n",
    "plt.ylim((0,1))\n",
    "plt.legend()\n",
    "plt.savefig(f'results/{sample}_mus_{run}.png')"
   ]
  },
  {
   "cell_type": "code",
   "execution_count": null,
   "metadata": {},
   "outputs": [],
   "source": [
    "plt.plot(sigmas[:, 0], label='Sigma: phi1')\n",
    "plt.plot(sigmas[:, 1], label='Sigma: phi2')\n",
    "#plt.plot(sigmas[:, 2], label='Sigma: phi3')\n",
    "#plt.plot(sigmas[:, 3], label='Sigma: phi4')\n",
    "plt.ylim((0,sigma_max))\n",
    "plt.legend()\n",
    "plt.savefig(f'results/{sample}_sigmas_{run}.png')"
   ]
  },
  {
   "cell_type": "code",
   "execution_count": null,
   "metadata": {},
   "outputs": [],
   "source": [
    "plt.plot(np.arange(print_every, num_episodes + print_every, print_every), losses)\n",
    "plt.xlabel(\"Episodes\")\n",
    "plt.ylabel(\"Loss\")\n",
    "plt.title(\"Loss during learning process\")\n",
    "plt.savefig(f'results/{sample}_loss_{run}.png')"
   ]
  },
  {
   "cell_type": "code",
   "execution_count": null,
   "metadata": {},
   "outputs": [],
   "source": [
    "X, Y, Loss_field = loss_field(exp, [.25, 30000], N = 500)\n",
    "plt.contourf(X, Y, Loss_field, levels=100)\n",
    "plt.xlabel(\"Phi1\")\n",
    "plt.ylabel(\"Phi2\")\n",
    "index = np.unravel_index(np.argmin(Loss_field), Loss_field.shape)\n",
    "plt.scatter(X[index], Y[index], c=\"r\", s=5)\n",
    "plt.title(f\"Loss Field, change of phi at 0.5\\nGlobal min ({round(np.min(Loss_field), 3)}) at {round(X[index], 4), round(Y[index], 4)}, red dot\")\n",
    "#plt.savefig(f'results/{sample}_loss_filed_at_5.png')"
   ]
  },
  {
   "cell_type": "code",
   "execution_count": null,
   "metadata": {},
   "outputs": [],
   "source": [
    "N = -1\n",
    "mlab.surf(X.T[:N, :N], Y.T[:N, :N], Loss_field.T[:N, :N])"
   ]
  },
  {
   "cell_type": "code",
   "execution_count": 7,
   "metadata": {},
   "outputs": [
    {
     "data": {
      "text/plain": [
       "(0, 2)"
      ]
     },
     "execution_count": 7,
     "metadata": {},
     "output_type": "execute_result"
    }
   ],
   "source": [
    "\n",
    "phis = np.linspace(0, 1, 1000)\n",
    "losses = []\n",
    "for phi1 in phis:\n",
    "    exp.reset()\n",
    "    exp.run_all([phi1], [10])\n",
    "    losses.append(exp.loss())\n",
    "plt.plot(losses[:])\n",
    "plt.ylim((0, 2))"
   ]
  },
  {
   "cell_type": "code",
   "execution_count": null,
   "metadata": {},
   "outputs": [],
   "source": [
    "plt.contourf(X, Y, Loss_field, levels=100)"
   ]
  },
  {
   "cell_type": "code",
   "execution_count": null,
   "metadata": {},
   "outputs": [],
   "source": []
  },
  {
   "cell_type": "code",
   "execution_count": null,
   "metadata": {},
   "outputs": [],
   "source": []
  },
  {
   "cell_type": "code",
   "execution_count": null,
   "metadata": {},
   "outputs": [],
   "source": []
  },
  {
   "cell_type": "code",
   "execution_count": null,
   "metadata": {},
   "outputs": [],
   "source": []
  },
  {
   "cell_type": "code",
   "execution_count": null,
   "metadata": {},
   "outputs": [],
   "source": [
    "exp_time = ExperimentAnalytes(k0 = alist.k0.values, S = alist.S.values, h=0.001, grad='iso', run_time=10.0)\n",
    "pol_time = PolicyTime(2, sigma_max = .2)\n",
    "losses_time, best_program_time, mus_time, sigmas_time, n_par_time = reinforce_delta_tau(\n",
    "        exp_time, \n",
    "        pol_time,\n",
    "        num_episodes=5000, \n",
    "        batch_size=10,\n",
    "        optim=lambda a, b: torch.optim.SGD(a, b, momentum=0.65),\n",
    "        lr=.1, \n",
    "        print_every=100,\n",
    "        lr_decay=lambda a, b, c: step_decay(a, b, c, steps=5, decay_factor=0.5),\n",
    "        baseline=0.65,\n",
    "        max_norm=2.\n",
    "    )"
   ]
  },
  {
   "cell_type": "code",
   "execution_count": null,
   "metadata": {},
   "outputs": [],
   "source": [
    "exp_time.reset()\n",
    "exp_time.run_all(pol_time.mu.detach().numpy()[:2], [0.25, 3000000])\n",
    "exp_time.print_analytes(rc=(7, 5))\n",
    "exp_time.loss()"
   ]
  },
  {
   "cell_type": "code",
   "execution_count": null,
   "metadata": {},
   "outputs": [],
   "source": [
    "exp_time.reset()\n",
    "exp_time.run_all(best_program_time[0], best_program_time[1])\n",
    "exp_time.print_analytes(rc=(7, 5))\n",
    "exp_time.loss()"
   ]
  },
  {
   "cell_type": "code",
   "execution_count": null,
   "metadata": {},
   "outputs": [],
   "source": [
    "plt.plot(losses_time)"
   ]
  },
  {
   "cell_type": "code",
   "execution_count": null,
   "metadata": {},
   "outputs": [],
   "source": [
    "plt.plot(mus_time[:, 0], label='Mu: 0')\n",
    "plt.plot(mus_time[:, 1], label='Mu: 1')\n",
    "plt.plot(mus_time[:, 2], label='Mu: 2')\n",
    "plt.legend()\n",
    "plt.show()"
   ]
  },
  {
   "cell_type": "code",
   "execution_count": null,
   "metadata": {},
   "outputs": [],
   "source": [
    "plt.plot(sigmas_time[:, 0], label='Sigma: 0')\n",
    "plt.plot(sigmas_time[:, 1], label='Sigma: 1')\n",
    "plt.plot(sigmas_time[:, 2], label='Sigma: 2')\n",
    "plt.plot(sigmas_time[:, 3], label='Sigma: 3')\n",
    "plt.plot(sigmas_time[:, 4], label='Sigma: 4')\n",
    "plt.plot(sigmas_time[:, 5], label='Sigma: 5')\n",
    "plt.plot(sigmas_time[:, 6], label='Sigma: 6')\n",
    "\n",
    "plt.legend()\n",
    "plt.show()"
   ]
  },
  {
   "cell_type": "code",
   "execution_count": null,
   "metadata": {},
   "outputs": [],
   "source": []
  }
 ],
 "metadata": {
  "kernelspec": {
   "display_name": "Python 3",
   "language": "python",
   "name": "python3"
  },
  "language_info": {
   "codemirror_mode": {
    "name": "ipython",
    "version": 3
   },
   "file_extension": ".py",
   "mimetype": "text/x-python",
   "name": "python",
   "nbconvert_exporter": "python",
   "pygments_lexer": "ipython3",
   "version": "3.7.6"
  }
 },
 "nbformat": 4,
 "nbformat_minor": 2
}
