{
 "cells": [
  {
   "cell_type": "markdown",
   "metadata": {},
   "source": [
    "## Library imports"
   ]
  },
  {
   "cell_type": "code",
   "execution_count": 1,
   "metadata": {
    "scrolled": true
   },
   "outputs": [],
   "source": [
    "import numpy as np\n",
    "import pandas as pd\n",
    "from chromatography import ExperimentAnalytes\n",
    "from separation_utility import *\n",
    "from torch import optim, tensor\n",
    "import matplotlib.pyplot as plt\n",
    "import matplotlib.animation as animation\n",
    "from mayavi import mlab\n",
    "%matplotlib qt"
   ]
  },
  {
   "cell_type": "markdown",
   "metadata": {},
   "source": [
    "## Dataset Import"
   ]
  },
  {
   "cell_type": "code",
   "execution_count": 2,
   "metadata": {},
   "outputs": [],
   "source": [
    "sample = 'GilarSample'\n",
    "alist = pd.read_csv(f'../data/{sample}.csv')\n",
    "# GilarSample\n",
    "# Peterpeptides\n",
    "# Roca\n",
    "# Peter32\n",
    "# Eosin\n",
    "# Alizarin\n",
    "# Controlmix1\n",
    "# Controlmix2\n",
    "#alist['k0'] = np.exp(alist.lnk0)"
   ]
  },
  {
   "cell_type": "markdown",
   "metadata": {},
   "source": [
    "## Useful functions definition"
   ]
  },
  {
   "cell_type": "code",
   "execution_count": 3,
   "metadata": {},
   "outputs": [],
   "source": [
    "def step_decay(lr, iteration, num_episodes, steps=10, decay_factor=0.8):\n",
    "    if iteration % (num_episodes // steps) == 0:\n",
    "        return lr * decay_factor\n",
    "    \n",
    "    return lr"
   ]
  },
  {
   "cell_type": "code",
   "execution_count": 4,
   "metadata": {},
   "outputs": [],
   "source": [
    "def loss_field(exp, taus, N = 200):\n",
    "    phis = np.linspace(0, 1, N)\n",
    "    losses = np.zeros((N, N))\n",
    "    j = 0\n",
    "    for phi1 in phis:\n",
    "        i = 0\n",
    "        for phi2 in phis:\n",
    "            exp.reset()\n",
    "            exp.run_all([phi1, phi2], taus)\n",
    "            losses[i, j] = exp.loss()\n",
    "            i += 1\n",
    "        j += 1\n",
    "    X, Y = np.meshgrid(phis, phis)\n",
    "    \n",
    "    return X, Y, losses"
   ]
  },
  {
   "cell_type": "code",
   "execution_count": 5,
   "metadata": {},
   "outputs": [],
   "source": [
    "# Parameters\n",
    "run_time_lim = 10.0\n",
    "sigma_max = 0.2\n",
    "taus = [.25, .25, 3000000]\n",
    "num_episodes=5000\n",
    "batch_size=10\n",
    "optim=lambda a, b: torch.optim.SGD(a, b, momentum=0.65)\n",
    "lr=.1\n",
    "print_every=100\n",
    "lr_decay=lambda a, b, c: step_decay(a, b, c, steps=7, decay_factor=0.5)\n",
    "baseline=0.55\n",
    "max_norm = 2.\n",
    "beta = .0\n",
    "run = 1"
   ]
  },
  {
   "cell_type": "code",
   "execution_count": null,
   "metadata": {},
   "outputs": [],
   "source": [
    "# Parameters\n",
    "run_time_lim = 10.0\n",
    "sigma_max = 0.2\n",
    "taus = [.5, 3000000]\n",
    "num_episodes=5000\n",
    "batch_size=10\n",
    "optim=lambda a, b: torch.optim.SGD(a, b, momentum=0.65)\n",
    "lr=.1\n",
    "print_every=100\n",
    "lr_decay=lambda a, b, c: step_decay(a, b, c, steps=7, decay_factor=0.5)\n",
    "baseline=0.55\n",
    "max_norm = 2.\n",
    "beta = .0\n",
    "run = 2"
   ]
  },
  {
   "cell_type": "code",
   "execution_count": null,
   "metadata": {},
   "outputs": [],
   "source": [
    "# Parameters\n",
    "run_time_lim = 10.0\n",
    "sigma_max = 0.2\n",
    "taus = [.5, 3000000]\n",
    "num_episodes=5000\n",
    "batch_size=10\n",
    "optim=lambda a, b: torch.optim.SGD(a, b, momentum=0.65)\n",
    "lr=.1\n",
    "print_every=100\n",
    "lr_decay=lambda a, b, c: step_decay(a, b, c, steps=7, decay_factor=0.5)\n",
    "baseline=0.55\n",
    "max_norm = 2.\n",
    "beta = .0\n",
    "run = 3\n",
    "lim = 0.2\n",
    "sample += \"_ISO\""
   ]
  },
  {
   "cell_type": "code",
   "execution_count": null,
   "metadata": {},
   "outputs": [],
   "source": [
    "# Parameters\n",
    "run_time_lim = 10.0\n",
    "sigma_max = 0.3\n",
    "taus = [.5, 3000000]\n",
    "num_episodes=5000\n",
    "batch_size=10\n",
    "optim=lambda a, b: torch.optim.SGD(a, b, momentum=0.65)\n",
    "lr=.1\n",
    "print_every=100\n",
    "lr_decay=lambda a, b, c: step_decay(a, b, c, steps=7, decay_factor=0.5)\n",
    "baseline=0.55\n",
    "max_norm = 2.\n",
    "beta = 0.\n",
    "run = 4\n"
   ]
  },
  {
   "cell_type": "code",
   "execution_count": 6,
   "metadata": {},
   "outputs": [
    {
     "name": "stdout",
     "output_type": "stream",
     "text": [
      "Loss: 0.3979980271100928, epoch: 100/5000\n",
      "Loss: 0.29724912126064634, epoch: 200/5000\n",
      "Loss: 0.2396229796281488, epoch: 300/5000\n",
      "Loss: 0.18639235003877955, epoch: 400/5000\n",
      "Loss: 0.1801881676969918, epoch: 500/5000\n",
      "Loss: 0.16966853198916454, epoch: 600/5000\n",
      "Loss: 0.15423011347568602, epoch: 700/5000\n",
      "Loss: 0.17514255996466588, epoch: 800/5000\n",
      "Loss: 0.146834885505233, epoch: 900/5000\n",
      "Loss: 0.15210066744341252, epoch: 1000/5000\n",
      "Loss: 0.14329473192232287, epoch: 1100/5000\n",
      "Loss: 0.14368008239781496, epoch: 1200/5000\n",
      "Loss: 0.13590610818704071, epoch: 1300/5000\n",
      "Loss: 0.14416924794437344, epoch: 1400/5000\n",
      "Loss: 0.1627772139475972, epoch: 1500/5000\n",
      "Loss: 0.15049218024316505, epoch: 1600/5000\n",
      "Loss: 0.15072414002500337, epoch: 1700/5000\n",
      "Loss: 0.13126951755553753, epoch: 1800/5000\n",
      "Loss: 0.14763902928875844, epoch: 1900/5000\n",
      "Loss: 0.1528066914989699, epoch: 2000/5000\n",
      "Loss: 0.1512897764458619, epoch: 2100/5000\n",
      "Loss: 0.16907972049860673, epoch: 2200/5000\n",
      "Loss: 0.1488068537468385, epoch: 2300/5000\n",
      "Loss: 0.14891448076545066, epoch: 2400/5000\n",
      "Loss: 0.1477432769632805, epoch: 2500/5000\n",
      "Loss: 0.12877428006762645, epoch: 2600/5000\n",
      "Loss: 0.13271789520935648, epoch: 2700/5000\n",
      "Loss: 0.1296000183820698, epoch: 2800/5000\n",
      "Loss: 0.12690937540250868, epoch: 2900/5000\n",
      "Loss: 0.13051010585878012, epoch: 3000/5000\n",
      "Loss: 0.13283364236943956, epoch: 3100/5000\n",
      "Loss: 0.13319324341956634, epoch: 3200/5000\n",
      "Loss: 0.14489790646585546, epoch: 3300/5000\n",
      "Loss: 0.13665423789207126, epoch: 3400/5000\n",
      "Loss: 0.13253112085680352, epoch: 3500/5000\n",
      "Loss: 0.13443795889833315, epoch: 3600/5000\n",
      "Loss: 0.13131680946167554, epoch: 3700/5000\n",
      "Loss: 0.12795638568288453, epoch: 3800/5000\n",
      "Loss: 0.12623046969689714, epoch: 3900/5000\n",
      "Loss: 0.13001920412105136, epoch: 4000/5000\n",
      "Loss: 0.1314412647841515, epoch: 4100/5000\n",
      "Loss: 0.13177826999185244, epoch: 4200/5000\n",
      "Loss: 0.13123409880532153, epoch: 4300/5000\n",
      "Loss: 0.1326328040128982, epoch: 4400/5000\n",
      "Loss: 0.12978748474031235, epoch: 4500/5000\n",
      "Loss: 0.12799878635375106, epoch: 4600/5000\n",
      "Loss: 0.12675647011714655, epoch: 4700/5000\n",
      "Loss: 0.12504757821510262, epoch: 4800/5000\n",
      "Loss: 0.12332242250025793, epoch: 4900/5000\n",
      "Loss: 0.12322309195638144, epoch: 5000/5000\n"
     ]
    }
   ],
   "source": [
    "exp = ExperimentAnalytes(k0 = alist.k0.values, S = alist.S.values, h=0.001, run_time=10.0)\n",
    "pol = Policy(len(taus), sigma_max = sigma_max)\n",
    "losses, best_program, mus, sigmas = reinforce_one_set(\n",
    "        exp, \n",
    "        pol, \n",
    "        taus, \n",
    "        num_episodes=num_episodes, \n",
    "        batch_size=batch_size,\n",
    "        optim=optim,\n",
    "        lr=lr, \n",
    "        print_every=print_every,\n",
    "        lr_decay=lr_decay,\n",
    "        baseline=baseline,\n",
    "        max_norm=max_norm,\n",
    "        beta=beta,\n",
    "        #lim=lim\n",
    "    )"
   ]
  },
  {
   "cell_type": "code",
   "execution_count": 8,
   "metadata": {},
   "outputs": [
    {
     "data": {
      "text/plain": [
       "<matplotlib.legend.Legend at 0x7f7ed576dd50>"
      ]
     },
     "execution_count": 8,
     "metadata": {},
     "output_type": "execute_result"
    }
   ],
   "source": [
    "exp.reset()\n",
    "exp.run_all(pol.mu.detach().numpy(), taus)\n",
    "exp.print_analytes(rc=(7, 5), angle=45,  title=f'Solvent Strength function\\nLoss: {round(exp.loss(),4)}')\n",
    "plt.show()\n",
    "plt.legend()\n",
    "#plt.savefig(f'results/{sample}_result_{run}.png')"
   ]
  },
  {
   "cell_type": "code",
   "execution_count": null,
   "metadata": {},
   "outputs": [],
   "source": [
    "exp.reset()\n",
    "exp.run_all(best_program.numpy(), taus)\n",
    "exp.print_analytes(rc=(7, 5), angle=45,  title=f'Solvent Strength function\\nLoss: {round(exp.loss(),4)}')\n",
    "plt.legend()\n",
    "plt.savefig(f'results/{sample}_best_result_{run}.png')"
   ]
  },
  {
   "cell_type": "code",
   "execution_count": null,
   "metadata": {},
   "outputs": [],
   "source": [
    "plt.plot(mus[:, 0], label='Mu: phi1')\n",
    "plt.plot(mus[:, 1], label='Mu: phi2')\n",
    "#plt.plot(mus[:, 2], label='Mu: phi3')\n",
    "#plt.plot(mus[:, 3], label='Mu: phi4')\n",
    "plt.ylim((0,1))\n",
    "plt.legend()\n",
    "plt.savefig(f'results/{sample}_mus_{run}.png')"
   ]
  },
  {
   "cell_type": "code",
   "execution_count": null,
   "metadata": {},
   "outputs": [],
   "source": [
    "plt.plot(sigmas[:, 0], label='Sigma: phi1')\n",
    "plt.plot(sigmas[:, 1], label='Sigma: phi2')\n",
    "#plt.plot(sigmas[:, 2], label='Sigma: phi3')\n",
    "#plt.plot(sigmas[:, 3], label='Sigma: phi4')\n",
    "plt.ylim((0,sigma_max))\n",
    "plt.legend()\n",
    "plt.savefig(f'results/{sample}_sigmas_{run}.png')"
   ]
  },
  {
   "cell_type": "code",
   "execution_count": null,
   "metadata": {},
   "outputs": [],
   "source": [
    "plt.plot(np.arange(print_every, num_episodes + print_every, print_every), losses)\n",
    "plt.xlabel(\"Episodes\")\n",
    "plt.ylabel(\"Loss\")\n",
    "plt.title(\"Loss during learning process\")\n",
    "plt.savefig(f'results/{sample}_loss_{run}.png')"
   ]
  },
  {
   "cell_type": "code",
   "execution_count": null,
   "metadata": {},
   "outputs": [],
   "source": [
    "X, Y, Loss_field = loss_field(exp, [.25, 30000], N = 500)\n",
    "plt.contourf(X, Y, Loss_field, levels=100)\n",
    "plt.xlabel(\"Phi1\")\n",
    "plt.ylabel(\"Phi2\")\n",
    "index = np.unravel_index(np.argmin(Loss_field), Loss_field.shape)\n",
    "plt.scatter(X[index], Y[index], c=\"r\", s=5)\n",
    "plt.title(f\"Loss Field, change of phi at 0.5\\nGlobal min ({round(np.min(Loss_field), 3)}) at {round(X[index], 4), round(Y[index], 4)}, red dot\")\n",
    "#plt.savefig(f'results/{sample}_loss_filed_at_5.png')"
   ]
  },
  {
   "cell_type": "code",
   "execution_count": null,
   "metadata": {},
   "outputs": [],
   "source": [
    "fig, ax = plt.subplots()\n",
    "plt.contourf(X, Y, Loss_field, levels=100)\n",
    "plt.colorbar()\n",
    "\n",
    "line, = plt.plot(mus[:, 0], mus[:, 1], color='k')\n",
    "scat = plt.scatter(samples[:, 0], samples[:, 1], c='r', s=3)\n",
    "\n",
    "def update(num, mu, samples, line, scat):\n",
    "    line.set_data(mu[num-2:num, 0], mu[num-2:num, 1])\n",
    "    line.axes.axis([0, 1, 0, 1])\n",
    "    scat.set_offsets(samples[(num-2)*10: num*10 - 10, :])\n",
    "    return line,\n",
    "\n",
    "ani = animation.FuncAnimation(fig, update, len(mus[:, 0]), fargs=[mus, samples, line, scat],\n",
    "                              interval=10, blit=False)\n",
    "plt.show()"
   ]
  },
  {
   "cell_type": "code",
   "execution_count": null,
   "metadata": {},
   "outputs": [],
   "source": [
    "import matplotlib.patches as patches\n",
    "fig, ax = plt.subplots()\n",
    "ax.set_ylim(0, 1)\n",
    "ax.set_xlim(0, 1)\n",
    "plt.xlabel(\"phi1\")\n",
    "\n",
    "plt.ylabel(\"phi2\")\n",
    "plt.contourf(X, Y, Loss_field, levels=100)\n",
    "plt.colorbar()\n",
    "\n",
    "n = 1998\n",
    "patch = patches.Arrow(mus[n, 0], mus[n, 1], mu_grads[n, 0], mu_grads[n, 1], width=0.02, color='k')\n",
    "ax.add_patch(patch)\n",
    "plt.scatter(samples[n*10:n*10+10, 0], samples[n*10:n*10+10:, 1], c='r', s=5, label='Samples')\n",
    "plt.scatter(mus[n, 0], mus[n, 1], c='b', s=20, label='current mu')\n",
    "plt.scatter(mus[n + 1, 0], mus[n + 1, 1], c='w', s=20, label='next mu')\n",
    "plt.title(f\"sigmas:{sigmas[n,:]}\")\n",
    "plt.legend()"
   ]
  },
  {
   "cell_type": "code",
   "execution_count": null,
   "metadata": {},
   "outputs": [],
   "source": [
    "import matplotlib.patches as patches\n",
    "\n",
    "fig, ax = plt.subplots()\n",
    "ax.set_ylim(0, 1)\n",
    "ax.set_xlim(0, 1)\n",
    "plt.contourf(X, Y, Loss_field, levels=100)\n",
    "plt.colorbar()\n",
    "\n",
    "patch = patches.Arrow(mus[0, 0], mus[0, 1], mu_grads[0, 0], mu_grads[0, 1], width=0.02, color='k')\n",
    "scat1 = plt.scatter(samples[:, 0], samples[:, 1], c='r', s=5)\n",
    "scat2 = plt.scatter(mus[:, 0], mus[:, 1], c='b', s=20)\n",
    "def init():\n",
    "    ax.add_patch(patch)\n",
    "    return patch,\n",
    "\n",
    "def update(num, mu, samples, scat1, scat2, ax):\n",
    "    ax.patches.pop(0)\n",
    "    patch = patches.Arrow(mus[num-2, 0], mus[num-2, 1], mu_grads[num-2, 0], mu_grads[num-2, 1], width=0.01, color='k')\n",
    "    ax.add_patch(patch)\n",
    "    scat1.set_offsets(samples[(num-2)*10: num*10, :])\n",
    "    scat2.set_offsets(mu[num-2: num, :])\n",
    "    return scat1,\n",
    "\n",
    "ani = animation.FuncAnimation(fig, update, len(mus[:, 0]), fargs=[mus, samples, scat1, scat2, ax],\n",
    "                              interval=10000, blit=False, init_func=init)\n"
   ]
  },
  {
   "cell_type": "code",
   "execution_count": null,
   "metadata": {},
   "outputs": [],
   "source": [
    "N = -1\n",
    "mlab.surf(X.T[:N, :N], Y.T[:N, :N], Loss_field.T[:N, :N])"
   ]
  },
  {
   "cell_type": "code",
   "execution_count": null,
   "metadata": {},
   "outputs": [],
   "source": [
    "n=3\n",
    "plt.contourf(X, Y, Loss_field, levels=100)\n",
    "plt.scatter(samples[n*10:10+10*n ,0], samples[n*10:10+10*n,1], s=1.,c='r')\n",
    "plt.arrow(mus[n,0], mus[n,1], mu_grads[n,0], mu_grads[n,1], length_includes_head=True, head_width=0.04, head_length=0.2)\n",
    "plt.scatter(mus[n:n+2, 0], mus[n:n+2, 1])\n",
    "plt.xlim((0, 1))\n",
    "plt.ylim((0, 1))"
   ]
  },
  {
   "cell_type": "code",
   "execution_count": null,
   "metadata": {},
   "outputs": [],
   "source": [
    "phis = np.linspace(0, 1, 1000)\n",
    "losses = []\n",
    "for phi1 in phis:\n",
    "    exp.reset()\n",
    "    exp.run_all([0.2, phi1], [0.25, 3000000])\n",
    "    losses.append(exp.loss())\n",
    "plt.plot(losses[:])"
   ]
  },
  {
   "cell_type": "code",
   "execution_count": null,
   "metadata": {},
   "outputs": [],
   "source": [
    "plt.contourf(X, Y, Loss_field, levels=100)"
   ]
  },
  {
   "cell_type": "code",
   "execution_count": null,
   "metadata": {},
   "outputs": [],
   "source": []
  },
  {
   "cell_type": "code",
   "execution_count": null,
   "metadata": {},
   "outputs": [],
   "source": []
  },
  {
   "cell_type": "code",
   "execution_count": null,
   "metadata": {},
   "outputs": [],
   "source": []
  },
  {
   "cell_type": "code",
   "execution_count": null,
   "metadata": {},
   "outputs": [],
   "source": []
  },
  {
   "cell_type": "code",
   "execution_count": null,
   "metadata": {},
   "outputs": [],
   "source": [
    "exp_time = ExperimentAnalytes(k0 = alist.k0.values, S = alist.S.values, h=0.001, grad='iso', run_time=10.0)\n",
    "pol_time = PolicyTime(2, sigma_max = .2)\n",
    "losses_time, best_program_time, mus_time, sigmas_time, n_par_time = reinforce_delta_tau(\n",
    "        exp_time, \n",
    "        pol_time,\n",
    "        num_episodes=5000, \n",
    "        batch_size=10,\n",
    "        optim=lambda a, b: torch.optim.SGD(a, b, momentum=0.65),\n",
    "        lr=.1, \n",
    "        print_every=100,\n",
    "        lr_decay=lambda a, b, c: step_decay(a, b, c, steps=5, decay_factor=0.5),\n",
    "        baseline=0.65,\n",
    "        max_norm=2.\n",
    "    )"
   ]
  },
  {
   "cell_type": "code",
   "execution_count": null,
   "metadata": {},
   "outputs": [],
   "source": [
    "exp_time.reset()\n",
    "exp_time.run_all(pol_time.mu.detach().numpy()[:2], [0.25, 3000000])\n",
    "exp_time.print_analytes(rc=(7, 5))\n",
    "exp_time.loss()"
   ]
  },
  {
   "cell_type": "code",
   "execution_count": null,
   "metadata": {},
   "outputs": [],
   "source": [
    "exp_time.reset()\n",
    "exp_time.run_all(best_program_time[0], best_program_time[1])\n",
    "exp_time.print_analytes(rc=(7, 5))\n",
    "exp_time.loss()"
   ]
  },
  {
   "cell_type": "code",
   "execution_count": null,
   "metadata": {},
   "outputs": [],
   "source": [
    "plt.plot(losses_time)"
   ]
  },
  {
   "cell_type": "code",
   "execution_count": null,
   "metadata": {},
   "outputs": [],
   "source": [
    "plt.plot(mus_time[:, 0], label='Mu: 0')\n",
    "plt.plot(mus_time[:, 1], label='Mu: 1')\n",
    "plt.plot(mus_time[:, 2], label='Mu: 2')\n",
    "plt.legend()\n",
    "plt.show()"
   ]
  },
  {
   "cell_type": "code",
   "execution_count": null,
   "metadata": {},
   "outputs": [],
   "source": [
    "plt.plot(sigmas_time[:, 0], label='Sigma: 0')\n",
    "plt.plot(sigmas_time[:, 1], label='Sigma: 1')\n",
    "plt.plot(sigmas_time[:, 2], label='Sigma: 2')\n",
    "plt.plot(sigmas_time[:, 3], label='Sigma: 3')\n",
    "plt.plot(sigmas_time[:, 4], label='Sigma: 4')\n",
    "plt.plot(sigmas_time[:, 5], label='Sigma: 5')\n",
    "plt.plot(sigmas_time[:, 6], label='Sigma: 6')\n",
    "\n",
    "plt.legend()\n",
    "plt.show()"
   ]
  },
  {
   "cell_type": "code",
   "execution_count": null,
   "metadata": {},
   "outputs": [],
   "source": []
  }
 ],
 "metadata": {
  "kernelspec": {
   "display_name": "Python 3",
   "language": "python",
   "name": "python3"
  },
  "language_info": {
   "codemirror_mode": {
    "name": "ipython",
    "version": 3
   },
   "file_extension": ".py",
   "mimetype": "text/x-python",
   "name": "python",
   "nbconvert_exporter": "python",
   "pygments_lexer": "ipython3",
   "version": "3.7.6"
  }
 },
 "nbformat": 4,
 "nbformat_minor": 2
}
