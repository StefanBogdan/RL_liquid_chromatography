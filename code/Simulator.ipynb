{
 "cells": [
  {
   "cell_type": "markdown",
   "metadata": {},
   "source": [
    "## Library imports"
   ]
  },
  {
   "cell_type": "code",
   "execution_count": 113,
   "metadata": {},
   "outputs": [
    {
     "name": "stdout",
     "output_type": "stream",
     "text": [
      "The autoreload extension is already loaded. To reload it, use:\n",
      "  %reload_ext autoreload\n"
     ]
    }
   ],
   "source": [
    "%load_ext autoreload\n",
    "%autoreload 2"
   ]
  },
  {
   "cell_type": "code",
   "execution_count": 114,
   "metadata": {
    "scrolled": true
   },
   "outputs": [],
   "source": [
    "import numpy as np\n",
    "import pandas as pd\n",
    "import seaborn as sns\n",
    "import matplotlib.pyplot as plt\n",
    "from pylab import *\n",
    "import torch as t\n",
    "from chromatography import placement_error, overlap_error, ExperimentAnalytes\n",
    "\n",
    "sns.set(style=\"darkgrid\", rc={'figure.figsize':(11.7,18.27)})\n",
    "%matplotlib inline"
   ]
  },
  {
   "cell_type": "markdown",
   "metadata": {},
   "source": [
    "## Dataset Import"
   ]
  },
  {
   "cell_type": "code",
   "execution_count": 115,
   "metadata": {},
   "outputs": [],
   "source": [
    "alist = pd.read_csv('../data/Peter32.csv')"
   ]
  },
  {
   "cell_type": "markdown",
   "metadata": {},
   "source": [
    "## Useful functions definition"
   ]
  },
  {
   "cell_type": "code",
   "execution_count": 116,
   "metadata": {},
   "outputs": [],
   "source": [
    "run1 = ExperimentAnalytes(k0 = alist.k0.values, S = alist.S.values, h=0.001, grad='iso', run_time=1)\n",
    "\n",
    "run1.final_position\n",
    "phis = [0.37, 0.75, 0.3, 0.09, 0.5]\n",
    "time = [np.zeros(alist.k0.values.shape)]\n",
    "positions = [np.zeros(alist.k0.values.shape)]\n",
    "for phi in phis:\n",
    "    if phi == 0.5:\n",
    "        t, p = run1.step(phi, 30)\n",
    "    else:\n",
    "        t, p = run1.step(phi, 0.1)\n",
    "    time.append(t)\n",
    "    positions.append(p)"
   ]
  },
  {
   "cell_type": "code",
   "execution_count": 117,
   "metadata": {},
   "outputs": [],
   "source": [
    "def print_analytes(times, positions):\n",
    "    \n",
    "    rcParams['figure.figsize'] = 20, 10\n",
    "\n",
    "    for i in range(len(times)-1):\n",
    "        for j in range(len(times[i])):\n",
    "            if i%2:\n",
    "                col = 'r'\n",
    "            else:\n",
    "                col = 'b'\n",
    "            plot(np.linspace(time[i][j], time[i+1][j], 100), np.linspace(positions[i][j], positions[i+1][j], 100),  \n",
    "                 c=col)\n",
    "        "
   ]
  },
  {
   "cell_type": "code",
   "execution_count": 118,
   "metadata": {},
   "outputs": [
    {
     "data": {
      "image/png": "[encoded data removed]",
      "text/plain": [
       "<Figure size 1440x720 with 1 Axes>"
      ]
     },
     "metadata": {
      "needs_background": "light"
     },
     "output_type": "display_data"
    }
   ],
   "source": [
    "print_analytes(time, positions)"
   ]
  },
  {
   "cell_type": "code",
   "execution_count": 119,
   "metadata": {},
   "outputs": [
    {
     "data": {
      "text/plain": [
       "[array([0., 0., 0., 0., 0., 0., 0., 0., 0., 0., 0., 0., 0., 0., 0., 0., 0.,\n",
       "        0., 0., 0., 0., 0., 0., 0., 0., 0., 0., 0., 0., 0., 0., 0.]),\n",
       " array([0.8972489 , 0.89828417, 0.89577441, 0.89837539, 0.89988126,\n",
       "        0.8946937 , 0.89197217, 0.89760524, 0.89889694, 0.8973919 ,\n",
       "        0.89896872, 0.89711086, 0.89708916, 0.89949778, 0.89640875,\n",
       "        0.89760887, 0.89962666, 0.89281276, 0.89904681, 0.89757686,\n",
       "        0.89782785, 0.89990894, 0.89655325, 0.89619258, 0.89467298,\n",
       "        0.89715078, 0.8901937 , 0.89780442, 0.89762037, 0.89814795,\n",
       "        0.89824335, 0.89596118]),\n",
       " array([0.8972489 , 0.89828417, 0.89577441, 0.89837539, 0.89988126,\n",
       "        0.8946937 , 0.89197217, 0.89760524, 0.89889694, 0.8973919 ,\n",
       "        0.89896872, 0.89711086, 0.89708916, 0.89949778, 0.89640875,\n",
       "        0.89760887, 0.89962666, 0.89281276, 0.89904681, 0.89757686,\n",
       "        0.89782785, 0.89990894, 0.89655325, 0.89619258, 0.89467298,\n",
       "        0.89715078, 0.8901937 , 0.89780442, 0.89762037, 0.89814795,\n",
       "        0.89824335, 0.89596118]),\n",
       " array([0.8972489 , 0.89828417, 0.89577441, 0.89837539, 0.89988126,\n",
       "        0.8946937 , 0.89197217, 0.89760524, 0.89889694, 0.8973919 ,\n",
       "        0.89896872, 0.89711086, 0.89708916, 0.89949778, 0.89640875,\n",
       "        0.89760887, 0.89962666, 0.89281276, 0.89904681, 0.89757686,\n",
       "        0.89782785, 0.89990894, 0.89655325, 0.89619258, 0.89467298,\n",
       "        0.89715078, 0.8901937 , 0.89780442, 0.89762037, 0.89814795,\n",
       "        0.89824335, 0.89596118]),\n",
       " array([0.8972489 , 0.89828417, 0.89577441, 0.89837539, 0.89988126,\n",
       "        0.8946937 , 0.89197217, 0.89760524, 0.89889694, 0.8973919 ,\n",
       "        0.89896872, 0.89711086, 0.89708916, 0.89949778, 0.89640875,\n",
       "        0.89760887, 0.89962666, 0.89281276, 0.89904681, 0.89757686,\n",
       "        0.89782785, 0.89990894, 0.89655325, 0.89619258, 0.89467298,\n",
       "        0.89715078, 0.8901937 , 0.89780442, 0.89762037, 0.89814795,\n",
       "        0.89824335, 0.89596118]),\n",
       " array([0.8972489 , 0.89828417, 0.89577441, 0.89837539, 0.89988126,\n",
       "        0.8946937 , 0.89197217, 0.89760524, 0.89889694, 0.8973919 ,\n",
       "        0.89896872, 0.89711086, 0.89708916, 0.89949778, 0.89640875,\n",
       "        0.89760887, 0.89962666, 0.89281276, 0.89904681, 0.89757686,\n",
       "        0.89782785, 0.89990894, 0.89655325, 0.89619258, 0.89467298,\n",
       "        0.89715078, 0.8901937 , 0.89780442, 0.89762037, 0.89814795,\n",
       "        0.89824335, 0.89596118])]"
      ]
     },
     "execution_count": 119,
     "metadata": {},
     "output_type": "execute_result"
    }
   ],
   "source": [
    "positions"
   ]
  },
  {
   "cell_type": "code",
   "execution_count": null,
   "metadata": {},
   "outputs": [],
   "source": []
  },
  {
   "cell_type": "code",
   "execution_count": null,
   "metadata": {},
   "outputs": [],
   "source": []
  },
  {
   "cell_type": "code",
   "execution_count": null,
   "metadata": {},
   "outputs": [],
   "source": []
  },
  {
   "cell_type": "code",
   "execution_count": null,
   "metadata": {},
   "outputs": [],
   "source": []
  },
  {
   "cell_type": "code",
   "execution_count": null,
   "metadata": {},
   "outputs": [],
   "source": []
  },
  {
   "cell_type": "code",
   "execution_count": null,
   "metadata": {},
   "outputs": [],
   "source": []
  },
  {
   "cell_type": "code",
   "execution_count": null,
   "metadata": {},
   "outputs": [],
   "source": [
    "def sig(height, mu):\n",
    "    return np.sqrt((mu**2) * height)"
   ]
  },
  {
   "cell_type": "code",
   "execution_count": null,
   "metadata": {},
   "outputs": [],
   "source": [
    "def k(k0, S, phi):\n",
    "    return (10 ** (-phi * S)) * k0"
   ]
  },
  {
   "cell_type": "code",
   "execution_count": null,
   "metadata": {},
   "outputs": [],
   "source": [
    "def xk(k0, S, phi, dt):\n",
    "    return dt /(k(k0, S, phi) + 1)"
   ]
  },
  {
   "cell_type": "code",
   "execution_count": null,
   "metadata": {},
   "outputs": [],
   "source": [
    "def iso_list(anlist, phi):\n",
    "    k0 = anlist[:,1]\n",
    "    S = anlist[:,2]\n",
    "    dt =  (1 - 2 * np.sqrt(0.001))\n",
    "    return np.sort(dt /((10 ** (-phi * S)) * k0 + 1))"
   ]
  },
  {
   "cell_type": "code",
   "execution_count": null,
   "metadata": {},
   "outputs": [],
   "source": [
    "def iso_spot(anlist, phi):\n",
    "    return pl_error(iso_list(anlist, phi))"
   ]
  },
  {
   "cell_type": "code",
   "execution_count": null,
   "metadata": {},
   "outputs": [],
   "source": [
    "def int_(ud, sigd, ua, siga):\n",
    "    return (2 * siga ** 2 * sigd - 2 * siga * sigd ** 2 \\\n",
    "            + sigd ** 2 * ua + siga ** 2 * ud)\\\n",
    "            / ( siga ** 2 + sigd ** 2)"
   ]
  },
  {
   "cell_type": "code",
   "execution_count": null,
   "metadata": {},
   "outputs": [],
   "source": [
    "def bl(ud, sigd, ua, siga):\n",
    "    first = int_(ud, sigd, ua, siga)\n",
    "    second = ua - 2 * siga\n",
    "    return np.stack([first,second], axis=1).max(axis=1)"
   ]
  },
  {
   "cell_type": "code",
   "execution_count": null,
   "metadata": {},
   "outputs": [],
   "source": [
    "def bu(ud, sigd, ua, siga):\n",
    "    first = int_(ud, sigd, ua, siga)\n",
    "    second = ud + 2 * sigd\n",
    "    return np.stack([first,second], axis=1).min(axis=1)"
   ]
  },
  {
   "cell_type": "code",
   "execution_count": null,
   "metadata": {},
   "outputs": [],
   "source": [
    "def cushlist(res_list):\n",
    "    return np.concatenate([ np.array([\n",
    "        0, 10 ** -10]).reshape(1, -1),\n",
    "        res_list,\n",
    "        np.array([1, 10 ** -10]).reshape(1, -1)])"
   ]
  },
  {
   "cell_type": "code",
   "execution_count": null,
   "metadata": {},
   "outputs": [],
   "source": [
    "def poi(res_list):\n",
    "    return np.stack(\n",
    "        [\n",
    "            bl(res_list[:-2, 0], res_list[:-2, 1], res_list[1:-1, 0], res_list[1:-1, 1]),\n",
    "            res_list[1:-1, 0],\n",
    "            bu(res_list[1:-1, 0], res_list[1:-1, 1], res_list[2:, 0], res_list[2:, 1])\n",
    "        ],\n",
    "        axis=1\n",
    "       )"
   ]
  },
  {
   "cell_type": "code",
   "execution_count": null,
   "metadata": {},
   "outputs": [],
   "source": [
    "def yval(x_list, chrom):\n",
    "\n",
    "    denominator = 4 * chrom[:, 1] ** 2\n",
    "    temp_1 = np.abs(x_list[:, 0] - x_list[:, 1])\n",
    "    temp_1[temp_1 > chrom[:, 1]] = 0\n",
    "    temp_1 /= denominator\n",
    "    \n",
    "    temp_2 = 1/(2 * chrom[:, 1])\n",
    "    \n",
    "    temp_3 = np.abs(x_list[:, 1] - x_list[:, 1])\n",
    "    temp_3[np.abs(x_list[:, 2] - x_list[:, 1]) > chrom[:, 1]] = 0\n",
    "    temp_3 /= denominator\n",
    "    \n",
    "    return np.stack([temp_1, temp_2, temp_3], axis=1)\n"
   ]
  },
  {
   "cell_type": "code",
   "execution_count": null,
   "metadata": {},
   "outputs": [],
   "source": [
    "def narea(main_list, x_list, y_list):\n",
    "    return 1 - ((y_list[:, 1] - y_list[:, 0])*(x_list[:, 1] - x_list[:, 0])\n",
    "            - (y_list[:, 2] - y_list[:, 1])*(x_list[:, 2] - x_list[:, 1])).sum()/(2 * main_list.shape[0])"
   ]
  },
  {
   "cell_type": "code",
   "execution_count": null,
   "metadata": {},
   "outputs": [],
   "source": [
    "def lfn(main_list, x_list, y_list):\n",
    "    return plerror(main_list) + narea(main_list, x_list, y_list)"
   ]
  },
  {
   "cell_type": "code",
   "execution_count": null,
   "metadata": {},
   "outputs": [],
   "source": [
    "def isoloss(alist, phi, h):\n",
    "    chroma = iso_list(alist.values, phi)\n",
    "    chroma = np.array([chroma, sig(h, chroma)]).T\n",
    "    schroma = chroma[chroma[:,0].argsort()]\n",
    "    padlist = cushlist(schroma)\n",
    "    npoi = poi(padlist)\n",
    "    ypoi = yval(npoi, schroma)\n",
    "    lofn = placement_error(schroma[:,0]) + narea(schroma,npoi, ypoi)\n",
    "    \n",
    "    return chroma, schroma, narea(schroma,npoi, ypoi)"
   ]
  },
  {
   "cell_type": "code",
   "execution_count": null,
   "metadata": {},
   "outputs": [],
   "source": [
    "phis = np.linspace(0.001, 0.999, 999)"
   ]
  },
  {
   "cell_type": "code",
   "execution_count": null,
   "metadata": {},
   "outputs": [],
   "source": [
    "def loss_suhas():\n",
    "    _, data, _ = isoloss(alist, 0.34, 0.001)\n",
    "    return data\n",
    "data = loss_suhas()"
   ]
  },
  {
   "cell_type": "code",
   "execution_count": null,
   "metadata": {},
   "outputs": [],
   "source": [
    "sns.relplot(x='phi', y='loss', data=data, kind='line')\n",
    "plt.ylim(0, 2)\n",
    "plt.show()"
   ]
  },
  {
   "cell_type": "code",
   "execution_count": null,
   "metadata": {},
   "outputs": [],
   "source": [
    "def my_isoloss(alist, phi, h):\n",
    "    chroma = iso_list(alist.values, phi)\n",
    "    chroma = np.array([chroma, sig(h, chroma)]).T\n",
    "    schroma = chroma[chroma[:,0].argsort()]\n",
    "    lofn = placement_error(schroma[:,0]) + overlap_error(schroma[:,0], schroma[:,1])\n",
    "    \n",
    "    return chroma, schroma, lofn"
   ]
  },
  {
   "cell_type": "code",
   "execution_count": null,
   "metadata": {},
   "outputs": [],
   "source": [
    "plt.rcParams['figure.figsize'] = (16,8)\n",
    "for mu, sigma in b:\n",
    "    x = np.random.normal(mu, sigma, size=500)\n",
    "    sns.kdeplot(x, shade=True)\n",
    "    plt.xlim((0,1))"
   ]
  },
  {
   "cell_type": "code",
   "execution_count": null,
   "metadata": {},
   "outputs": [],
   "source": [
    "def my_loss():\n",
    "    for phi in phis:\n",
    "        my_isoloss(alist, phi, 0.001)\n"
   ]
  },
  {
   "cell_type": "code",
   "execution_count": null,
   "metadata": {},
   "outputs": [],
   "source": [
    "sns.relplot(x='phi', y='loss', data=data, kind='line')\n",
    "plt.ylim(0, 2)\n",
    "plt.show()"
   ]
  },
  {
   "cell_type": "code",
   "execution_count": null,
   "metadata": {},
   "outputs": [],
   "source": [
    "data.sort_values('loss')"
   ]
  },
  {
   "cell_type": "code",
   "execution_count": null,
   "metadata": {},
   "outputs": [],
   "source": [
    "%timeit  isoloss(alist, 0.34, 0.001)"
   ]
  },
  {
   "cell_type": "code",
   "execution_count": null,
   "metadata": {},
   "outputs": [],
   "source": [
    "%timeit  my_isoloss(alist, 0.34, 0.001)"
   ]
  },
  {
   "cell_type": "code",
   "execution_count": null,
   "metadata": {},
   "outputs": [],
   "source": [
    "0.015625*1000"
   ]
  },
  {
   "cell_type": "code",
   "execution_count": null,
   "metadata": {},
   "outputs": [],
   "source": []
  },
  {
   "cell_type": "code",
   "execution_count": null,
   "metadata": {},
   "outputs": [],
   "source": []
  }
 ],
 "metadata": {
  "kernelspec": {
   "display_name": "Python 3",
   "language": "python",
   "name": "python3"
  },
  "language_info": {
   "codemirror_mode": {
    "name": "ipython",
    "version": 3
   },
   "file_extension": ".py",
   "mimetype": "text/x-python",
   "name": "python",
   "nbconvert_exporter": "python",
   "pygments_lexer": "ipython3",
   "version": "3.7.3"
  }
 },
 "nbformat": 4,
 "nbformat_minor": 2
}
