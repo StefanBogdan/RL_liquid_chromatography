{
 "cells": [
  {
   "cell_type": "markdown",
   "metadata": {},
   "source": [
    "## Library imports"
   ]
  },
  {
   "cell_type": "code",
   "execution_count": 1,
   "metadata": {
    "scrolled": true
   },
   "outputs": [],
   "source": [
    "import typing\n",
    "import numpy as np\n",
    "import pandas as pd\n",
    "import seaborn as sns\n",
    "import matplotlib.pyplot as plt\n",
    "from scipy.special import erf\n",
    "from statistics import NormalDist\n",
    "sns.set(style=\"darkgrid\", rc={'figure.figsize':(11.7,18.27)})\n",
    "%matplotlib inline"
   ]
  },
  {
   "cell_type": "markdown",
   "metadata": {},
   "source": [
    "## Dataset Import"
   ]
  },
  {
   "cell_type": "code",
   "execution_count": 2,
   "metadata": {},
   "outputs": [],
   "source": [
    "alist = pd.read_csv('../data/Peter32.csv')"
   ]
  },
  {
   "cell_type": "markdown",
   "metadata": {},
   "source": [
    "## Error Functions"
   ]
  },
  {
   "cell_type": "code",
   "execution_count": 3,
   "metadata": {},
   "outputs": [],
   "source": [
    "def placement_error(analytes_pl, true_pl=None):\n",
    "    \"\"\"\n",
    "    Conpute placement error for a given analyte list result.\n",
    "    \n",
    "    Parameters\n",
    "    ----------\n",
    "    analytes_pl: \n",
    "        list with analyte placements.\n",
    "    true_pl:\n",
    "        the true placements that the analytes should have.\n",
    "        \n",
    "    Returns\n",
    "    -------\n",
    "        returns the placement error\n",
    "    \"\"\"\n",
    "    \n",
    "    list_len = analytes_pl.shape[0]\n",
    "    \n",
    "    if not true_pl:\n",
    "        true_pl = np.arange(1, list_len + 1)/list_len\n",
    "       \n",
    "    return 2 * np.abs(analytes_pl - true_pl).sum() / (list_len - 1)"
   ]
  },
  {
   "cell_type": "code",
   "execution_count": 4,
   "metadata": {},
   "outputs": [],
   "source": [
    "def cdf(x, mu, sigma):\n",
    "    \"\"\"\n",
    "    Cumulative distribution function for Normal Distribution.\n",
    "    \n",
    "    Parameters\n",
    "    ----------\n",
    "    x:\n",
    "        position to calculate P(X < x)\n",
    "    mu:\n",
    "        mean of the Normal Distribution.\n",
    "    sigma:\n",
    "        standard deviation of the Normal Distribution.\n",
    "        \n",
    "    Return\n",
    "    ------\n",
    "        cdf at x.\n",
    "    \"\"\"\n",
    "    return 0.5 * (1.0 + erf((x - mu) / (sigma * np.sqrt(2.0))))"
   ]
  },
  {
   "cell_type": "code",
   "execution_count": 87,
   "metadata": {},
   "outputs": [],
   "source": [
    "def overlap_error(mu, sigma):\n",
    "    \"\"\"\n",
    "    Compute the overlaping error of the analytes.\n",
    "    \n",
    "    Parameters\n",
    "    ----------\n",
    "    mu:\n",
    "        mean of the peak per analyte\n",
    "    sigma:\n",
    "        standard deviation of the peak per analyte.\n",
    "        \n",
    "    Returns\n",
    "    -------\n",
    "        The overlaping error of all the analytes.\n",
    "    \"\"\"\n",
    "    indexes = np.argsort(sigma)\n",
    "    mu_1 = (mu[indexes])[:-1]\n",
    "    sigma_1 = (sigma[indexes])[:-1]\n",
    "    var_1 = sigma_1 ** 2\n",
    "    mu_2 = (mu[indexes])[1:]\n",
    "    sigma_2 = (sigma[indexes])[1:]\n",
    "    var_2 = sigma_2 ** 2\n",
    "\n",
    "    d_var = var_2 - var_1\n",
    "    d_mu = np.fabs(mu_2 - mu_1)\n",
    "    \n",
    "    # Split into two cases: When d_var is zero and when not\n",
    "    # Case d_var is zero\n",
    "    zero_d_var = (d_var == 0)\n",
    "    overlap_area = (1.0 - erf(d_mu[zero_d_var] / (2.0 * sigma_1[zero_d_var] * np.sqrt(2.0)))).sum()\n",
    "    \n",
    "    # Case d_var is not zero\n",
    "    if (~zero_d_var).sum() == 0:\n",
    "        return overlap_area/zero_d_var.sum()\n",
    "    \n",
    "    # reassigne values\n",
    "    mu_1 = mu_1[~zero_d_var]\n",
    "    mu_2 = mu_2[~zero_d_var]\n",
    "    sigma_1 = sigma_1[~zero_d_var]\n",
    "    sigma_2 = sigma_2[~zero_d_var]\n",
    "    var_1 = var_1[~zero_d_var]\n",
    "    var_2 = var_2[~zero_d_var]\n",
    "    d_var = d_var[~zero_d_var]\n",
    "    d_mu = d_mu[~zero_d_var]\n",
    "    \n",
    "    a = mu_1 * var_2 - mu_2 * var_1\n",
    "    b = sigma_1 * sigma_2 * np.sqrt(d_mu**2.0 + d_var * np.log(var_2 / var_1))\n",
    "    x1 = (a + b) / d_var\n",
    "    x2 = (a - b) / d_var\n",
    "    overlap_area += (1.0 - (np.fabs(cdf(x1, mu_2, sigma_2) - cdf(x1, mu_1, sigma_1))\\\n",
    "                  + np.fabs(cdf(x2, mu_2, sigma_2) - cdf(x2, mu_1, sigma_1)))).sum()\n",
    "    return overlap_area/(len(mu) - 1)"
   ]
  },
  {
   "cell_type": "markdown",
   "metadata": {},
   "source": [
    "## Useful functions definition"
   ]
  },
  {
   "cell_type": "code",
   "execution_count": 92,
   "metadata": {},
   "outputs": [],
   "source": [
    "def sig(height, mu):\n",
    "    return np.sqrt((mu**2) * height)"
   ]
  },
  {
   "cell_type": "code",
   "execution_count": 93,
   "metadata": {},
   "outputs": [],
   "source": [
    "def k(k0, S, phi):\n",
    "    return (10 ** (-phi * S)) * k0"
   ]
  },
  {
   "cell_type": "code",
   "execution_count": 94,
   "metadata": {},
   "outputs": [],
   "source": [
    "def xk(k0, S, phi, dt):\n",
    "    return dt /(k(k0, S, phi) + 1)"
   ]
  },
  {
   "cell_type": "code",
   "execution_count": 95,
   "metadata": {},
   "outputs": [],
   "source": [
    "def iso_list(anlist, phi):\n",
    "    k0 = anlist[:,1]\n",
    "    S = anlist[:,2]\n",
    "    dt =  (1 - 2 * np.sqrt(0.001))\n",
    "    return np.sort(dt /((10 ** (-phi * S)) * k0 + 1))"
   ]
  },
  {
   "cell_type": "code",
   "execution_count": 96,
   "metadata": {},
   "outputs": [],
   "source": [
    "def iso_spot(anlist, phi):\n",
    "    return pl_error(iso_list(anlist, phi))"
   ]
  },
  {
   "cell_type": "code",
   "execution_count": 97,
   "metadata": {},
   "outputs": [],
   "source": [
    "def int_(ud, sigd, ua, siga):\n",
    "    return (2 * siga ** 2 * sigd - 2 * siga * sigd ** 2 \\\n",
    "            + sigd ** 2 * ua + siga ** 2 * ud)\\\n",
    "            / ( siga ** 2 + sigd ** 2)"
   ]
  },
  {
   "cell_type": "code",
   "execution_count": 98,
   "metadata": {},
   "outputs": [],
   "source": [
    "def bl(ud, sigd, ua, siga):\n",
    "    first = int_(ud, sigd, ua, siga)\n",
    "    second = ua - 2 * siga\n",
    "    return np.stack([first,second], axis=1).max(axis=1)"
   ]
  },
  {
   "cell_type": "code",
   "execution_count": 99,
   "metadata": {},
   "outputs": [],
   "source": [
    "def bu(ud, sigd, ua, siga):\n",
    "    first = int_(ud, sigd, ua, siga)\n",
    "    second = ud + 2 * sigd\n",
    "    return np.stack([first,second], axis=1).min(axis=1)"
   ]
  },
  {
   "cell_type": "code",
   "execution_count": 100,
   "metadata": {},
   "outputs": [],
   "source": [
    "def cushlist(res_list):\n",
    "    return np.concatenate([ np.array([\n",
    "        0, 10 ** -10]).reshape(1, -1),\n",
    "        res_list,\n",
    "        np.array([1, 10 ** -10]).reshape(1, -1)])"
   ]
  },
  {
   "cell_type": "code",
   "execution_count": 101,
   "metadata": {},
   "outputs": [],
   "source": [
    "def poi(res_list):\n",
    "    return np.stack(\n",
    "        [\n",
    "            bl(res_list[:-2, 0], res_list[:-2, 1], res_list[1:-1, 0], res_list[1:-1, 1]),\n",
    "            res_list[1:-1, 0],\n",
    "            bu(res_list[1:-1, 0], res_list[1:-1, 1], res_list[2:, 0], res_list[2:, 1])\n",
    "        ],\n",
    "        axis=1\n",
    "       )"
   ]
  },
  {
   "cell_type": "code",
   "execution_count": 102,
   "metadata": {},
   "outputs": [],
   "source": [
    "def yval(x_list, chrom):\n",
    "\n",
    "    denominator = 4 * chrom[:, 1] ** 2\n",
    "    temp_1 = np.abs(x_list[:, 0] - x_list[:, 1])\n",
    "    temp_1[temp_1 > chrom[:, 1]] = 0\n",
    "    temp_1 /= denominator\n",
    "    \n",
    "    temp_2 = 1/(2 * chrom[:, 1])\n",
    "    \n",
    "    temp_3 = np.abs(x_list[:, 1] - x_list[:, 1])\n",
    "    temp_3[np.abs(x_list[:, 2] - x_list[:, 1]) > chrom[:, 1]] = 0\n",
    "    temp_3 /= denominator\n",
    "    \n",
    "    return np.stack([temp_1, temp_2, temp_3], axis=1)\n"
   ]
  },
  {
   "cell_type": "code",
   "execution_count": 103,
   "metadata": {},
   "outputs": [],
   "source": [
    "def narea(main_list, x_list, y_list):\n",
    "    return 1 - ((y_list[:, 1] - y_list[:, 0])*(x_list[:, 1] - x_list[:, 0])\n",
    "            - (y_list[:, 2] - y_list[:, 1])*(x_list[:, 2] - x_list[:, 1])).sum()/(2 * main_list.shape[0])"
   ]
  },
  {
   "cell_type": "code",
   "execution_count": 104,
   "metadata": {},
   "outputs": [],
   "source": [
    "def lfn(main_list, x_list, y_list):\n",
    "    return plerror(main_list) + narea(main_list, x_list, y_list)"
   ]
  },
  {
   "cell_type": "code",
   "execution_count": 105,
   "metadata": {},
   "outputs": [],
   "source": [
    "def isoloss(alist, phi, h):\n",
    "    chroma = iso_list(alist.values, phi)\n",
    "    chroma = np.array([chroma, sig(h, chroma)]).T\n",
    "    schroma = chroma[chroma[:,0].argsort()]\n",
    "    padlist = cushlist(schroma)\n",
    "    npoi = poi(padlist)\n",
    "    ypoi = yval(npoi, schroma)\n",
    "    lofn = placement_error(schroma[:,0]) + narea(schroma,npoi, ypoi)\n",
    "    \n",
    "    return chroma, schroma, narea(schroma,npoi, ypoi)"
   ]
  },
  {
   "cell_type": "code",
   "execution_count": 106,
   "metadata": {},
   "outputs": [],
   "source": [
    "phis = np.linspace(0.001, 0.999, 999)"
   ]
  },
  {
   "cell_type": "code",
   "execution_count": 130,
   "metadata": {},
   "outputs": [],
   "source": [
    "def loss_suhas():\n",
    "    isoloss(alist, 0.34, 0.001)"
   ]
  },
  {
   "cell_type": "code",
   "execution_count": 108,
   "metadata": {},
   "outputs": [
    {
     "data": {
      "image/png": "[encoded data removed]",
      "text/plain": [
       "<Figure size 360x360 with 1 Axes>"
      ]
     },
     "metadata": {
      "needs_background": "light"
     },
     "output_type": "display_data"
    }
   ],
   "source": [
    "sns.relplot(x='phi', y='loss', data=data, kind='line')\n",
    "plt.ylim(0, 2)\n",
    "plt.show()"
   ]
  },
  {
   "cell_type": "code",
   "execution_count": 115,
   "metadata": {},
   "outputs": [],
   "source": [
    "def my_isoloss(alist, phi, h):\n",
    "    chroma = iso_list(alist.values, phi)\n",
    "    chroma = np.array([chroma, sig(h, chroma)]).T\n",
    "    schroma = chroma[chroma[:,0].argsort()]\n",
    "    lofn = placement_error(schroma[:,0]) + overlap_error(schroma[:,0], schroma[:,1])\n",
    "    \n",
    "    return chroma, schroma, lofn"
   ]
  },
  {
   "cell_type": "code",
   "execution_count": 116,
   "metadata": {},
   "outputs": [
    {
     "data": {
      "image/png": "[encoded data removed]",
      "text/plain": [
       "<Figure size 1152x576 with 1 Axes>"
      ]
     },
     "metadata": {
      "needs_background": "light"
     },
     "output_type": "display_data"
    }
   ],
   "source": [
    "plt.rcParams['figure.figsize'] = (16,8)\n",
    "for mu, sigma in b:\n",
    "    x = np.random.normal(mu, sigma, size=500)\n",
    "    sns.kdeplot(x, shade=True)\n",
    "    plt.xlim((0,1))"
   ]
  },
  {
   "cell_type": "code",
   "execution_count": 120,
   "metadata": {},
   "outputs": [],
   "source": [
    "def my_loss():\n",
    "    for phi in phis:\n",
    "        my_isoloss(alist, phi, 0.001)\n"
   ]
  },
  {
   "cell_type": "code",
   "execution_count": 118,
   "metadata": {},
   "outputs": [
    {
     "data": {
      "image/png": "[encoded data removed]",
      "text/plain": [
       "<Figure size 360x360 with 1 Axes>"
      ]
     },
     "metadata": {
      "needs_background": "light"
     },
     "output_type": "display_data"
    }
   ],
   "source": [
    "sns.relplot(x='phi', y='loss', data=data, kind='line')\n",
    "plt.ylim(0, 2)\n",
    "plt.show()"
   ]
  },
  {
   "cell_type": "code",
   "execution_count": 114,
   "metadata": {},
   "outputs": [
    {
     "data": {
      "text/html": [
       "<div>\n",
       "<style scoped>\n",
       "    .dataframe tbody tr th:only-of-type {\n",
       "        vertical-align: middle;\n",
       "    }\n",
       "\n",
       "    .dataframe tbody tr th {\n",
       "        vertical-align: top;\n",
       "    }\n",
       "\n",
       "    .dataframe thead th {\n",
       "        text-align: right;\n",
       "    }\n",
       "</style>\n",
       "<table border=\"1\" class=\"dataframe\">\n",
       "  <thead>\n",
       "    <tr style=\"text-align: right;\">\n",
       "      <th></th>\n",
       "      <th>loss</th>\n",
       "      <th>phi</th>\n",
       "    </tr>\n",
       "  </thead>\n",
       "  <tbody>\n",
       "    <tr>\n",
       "      <th>0</th>\n",
       "      <td>0.219114</td>\n",
       "      <td>0.001</td>\n",
       "    </tr>\n",
       "    <tr>\n",
       "      <th>1</th>\n",
       "      <td>0.220408</td>\n",
       "      <td>0.002</td>\n",
       "    </tr>\n",
       "    <tr>\n",
       "      <th>2</th>\n",
       "      <td>0.221763</td>\n",
       "      <td>0.003</td>\n",
       "    </tr>\n",
       "    <tr>\n",
       "      <th>3</th>\n",
       "      <td>0.223178</td>\n",
       "      <td>0.004</td>\n",
       "    </tr>\n",
       "    <tr>\n",
       "      <th>106</th>\n",
       "      <td>0.224366</td>\n",
       "      <td>0.107</td>\n",
       "    </tr>\n",
       "    <tr>\n",
       "      <th>...</th>\n",
       "      <td>...</td>\n",
       "      <td>...</td>\n",
       "    </tr>\n",
       "    <tr>\n",
       "      <th>994</th>\n",
       "      <td>0.999510</td>\n",
       "      <td>0.995</td>\n",
       "    </tr>\n",
       "    <tr>\n",
       "      <th>995</th>\n",
       "      <td>0.999515</td>\n",
       "      <td>0.996</td>\n",
       "    </tr>\n",
       "    <tr>\n",
       "      <th>996</th>\n",
       "      <td>0.999519</td>\n",
       "      <td>0.997</td>\n",
       "    </tr>\n",
       "    <tr>\n",
       "      <th>997</th>\n",
       "      <td>0.999524</td>\n",
       "      <td>0.998</td>\n",
       "    </tr>\n",
       "    <tr>\n",
       "      <th>998</th>\n",
       "      <td>0.999529</td>\n",
       "      <td>0.999</td>\n",
       "    </tr>\n",
       "  </tbody>\n",
       "</table>\n",
       "<p>999 rows × 2 columns</p>\n",
       "</div>"
      ],
      "text/plain": [
       "         loss    phi\n",
       "0    0.219114  0.001\n",
       "1    0.220408  0.002\n",
       "2    0.221763  0.003\n",
       "3    0.223178  0.004\n",
       "106  0.224366  0.107\n",
       "..        ...    ...\n",
       "994  0.999510  0.995\n",
       "995  0.999515  0.996\n",
       "996  0.999519  0.997\n",
       "997  0.999524  0.998\n",
       "998  0.999529  0.999\n",
       "\n",
       "[999 rows x 2 columns]"
      ]
     },
     "execution_count": 114,
     "metadata": {},
     "output_type": "execute_result"
    }
   ],
   "source": [
    "data.sort_values('loss')"
   ]
  },
  {
   "cell_type": "code",
   "execution_count": 131,
   "metadata": {},
   "outputs": [
    {
     "name": "stdout",
     "output_type": "stream",
     "text": [
      "309 µs ± 7.92 µs per loop (mean ± std. dev. of 7 runs, 1000 loops each)\n"
     ]
    }
   ],
   "source": [
    "%timeit  isoloss(alist, 0.34, 0.001)"
   ]
  },
  {
   "cell_type": "code",
   "execution_count": 132,
   "metadata": {},
   "outputs": [
    {
     "name": "stdout",
     "output_type": "stream",
     "text": [
      "228 µs ± 3.5 µs per loop (mean ± std. dev. of 7 runs, 1000 loops each)\n"
     ]
    }
   ],
   "source": [
    "%timeit  my_isoloss(alist, 0.34, 0.001)"
   ]
  },
  {
   "cell_type": "code",
   "execution_count": 127,
   "metadata": {},
   "outputs": [
    {
     "data": {
      "text/plain": [
       "15.625"
      ]
     },
     "execution_count": 127,
     "metadata": {},
     "output_type": "execute_result"
    }
   ],
   "source": [
    "0.015625*1000"
   ]
  },
  {
   "cell_type": "code",
   "execution_count": 134,
   "metadata": {},
   "outputs": [
    {
     "data": {
      "text/plain": [
       "65.21739130434783"
      ]
     },
     "execution_count": 134,
     "metadata": {},
     "output_type": "execute_result"
    }
   ],
   "source": []
  },
  {
   "cell_type": "code",
   "execution_count": null,
   "metadata": {},
   "outputs": [],
   "source": []
  }
 ],
 "metadata": {
  "kernelspec": {
   "display_name": "Python 3",
   "language": "python",
   "name": "python3"
  },
  "language_info": {
   "codemirror_mode": {
    "name": "ipython",
    "version": 3
   },
   "file_extension": ".py",
   "mimetype": "text/x-python",
   "name": "python",
   "nbconvert_exporter": "python",
   "pygments_lexer": "ipython3",
   "version": "3.8.0"
  }
 },
 "nbformat": 4,
 "nbformat_minor": 2
}
