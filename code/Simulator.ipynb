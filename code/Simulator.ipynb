{
 "cells": [
  {
   "cell_type": "markdown",
   "metadata": {},
   "source": [
    "## Library imports"
   ]
  },
  {
   "cell_type": "code",
   "execution_count": 1,
   "metadata": {},
   "outputs": [],
   "source": [
    "%load_ext autoreload\n",
    "%autoreload 2"
   ]
  },
  {
   "cell_type": "code",
   "execution_count": 2,
   "metadata": {
    "scrolled": true
   },
   "outputs": [],
   "source": [
    "import numpy as np\n",
    "import pandas as pd\n",
    "from chromatography import *\n",
    "from torch import optim, tensor\n",
    "import matplotlib.pyplot as plt\n",
    "import matplotlib.animation as animation\n",
    "from mayavi import mlab\n",
    "%matplotlib qt"
   ]
  },
  {
   "cell_type": "markdown",
   "metadata": {},
   "source": [
    "## Dataset Import"
   ]
  },
  {
   "cell_type": "code",
   "execution_count": 3,
   "metadata": {},
   "outputs": [],
   "source": [
    "alist = pd.read_csv('../data/Peterpeptides.csv')"
   ]
  },
  {
   "cell_type": "markdown",
   "metadata": {},
   "source": [
    "## Useful functions definition"
   ]
  },
  {
   "cell_type": "code",
   "execution_count": 4,
   "metadata": {},
   "outputs": [],
   "source": [
    "def step_decay(lr, iteration, num_episodes, steps=10, decay_factor=0.8):\n",
    "    if iteration % (num_episodes // steps) == 0:\n",
    "        return lr * decay_factor\n",
    "    \n",
    "    return lr"
   ]
  },
  {
   "cell_type": "code",
   "execution_count": 5,
   "metadata": {},
   "outputs": [],
   "source": [
    "def loss_field(exp, N = 200):\n",
    "    phis = np.linspace(0, 1, N)\n",
    "    losses = np.zeros((N, N))\n",
    "    j = 0\n",
    "    for phi1 in phis:\n",
    "        i = 0\n",
    "        for phi2 in phis:\n",
    "            exp.reset()\n",
    "            exp.run_all([phi1, phi2], [0.25, 3000000])\n",
    "            losses[i, j] = exp.loss()\n",
    "            i += 1\n",
    "        j += 1\n",
    "    X, Y = np.meshgrid(phis, phis)\n",
    "    \n",
    "    return X, Y, losses"
   ]
  },
  {
   "cell_type": "code",
   "execution_count": 26,
   "metadata": {},
   "outputs": [
    {
     "name": "stdout",
     "output_type": "stream",
     "text": [
      "Loss: 0.905209742323548, epoch: 100/2000\n",
      "Loss: 0.7557500458482352, epoch: 200/2000\n",
      "Loss: 1.0058576518815296, epoch: 300/2000\n",
      "Loss: 0.7685605647653752, epoch: 400/2000\n",
      "Loss: 0.8251742397359426, epoch: 500/2000\n",
      "Loss: 0.7552848930445529, epoch: 600/2000\n",
      "Loss: 0.8041727475219596, epoch: 700/2000\n",
      "Loss: 0.7593390704340096, epoch: 800/2000\n",
      "Loss: 0.7265015499718175, epoch: 900/2000\n",
      "Loss: 0.7108945651573106, epoch: 1000/2000\n",
      "Loss: 0.8599198104557281, epoch: 1100/2000\n",
      "Loss: 0.7897539286111059, epoch: 1200/2000\n",
      "Loss: 0.7518446406521563, epoch: 1300/2000\n",
      "Loss: 0.7399275555384679, epoch: 1400/2000\n",
      "Loss: 0.748343714932335, epoch: 1500/2000\n",
      "Loss: 0.7189511040552441, epoch: 1600/2000\n",
      "Loss: 0.7220820294569251, epoch: 1700/2000\n",
      "Loss: 0.7162621998852153, epoch: 1800/2000\n",
      "Loss: 0.7275718218324219, epoch: 1900/2000\n",
      "Loss: 0.7077699927017145, epoch: 2000/2000\n"
     ]
    }
   ],
   "source": [
    "exp = ExperimentAnalytes(k0 = alist.k0.values, S = alist.S.values, h=0.001, grad='iso', run_time=None)\n",
    "pol = Policy(2, sigma_max = 0.2)\n",
    "losses, best_program, mus, sigmas, n_pars, samples, mu_grads, sigma_grads = reinforce(\n",
    "        exp, \n",
    "        pol, \n",
    "        [.25, 33.25], \n",
    "        num_episodes=2000, \n",
    "        batch_size=10,\n",
    "        optim=lambda a, b: torch.optim.SGD(a, b, momentum=0.0),\n",
    "        lr=.5, \n",
    "        print_every=100,\n",
    "        lr_decay=lambda a, b, c: step_decay(a, b, c, steps=4, decay_factor=0.85),\n",
    "        baseline=0.7,\n",
    "        max_norm = 0.5,\n",
    "        beta = 0\n",
    "    )"
   ]
  },
  {
   "cell_type": "code",
   "execution_count": 21,
   "metadata": {},
   "outputs": [
    {
     "data": {
      "text/plain": [
       "0.6765882207361548"
      ]
     },
     "execution_count": 21,
     "metadata": {},
     "output_type": "execute_result"
    }
   ],
   "source": [
    "exp.reset()\n",
    "exp.run_all(pol.mu.detach().numpy(), [0.25, 3000000])\n",
    "exp.print_analytes(rc=(7, 5))\n",
    "exp.loss()"
   ]
  },
  {
   "cell_type": "code",
   "execution_count": 8,
   "metadata": {},
   "outputs": [],
   "source": [
    "plt.plot(mus[:, 0], label='Mu: phi1')\n",
    "plt.plot(mus[:, 1], label='Mu: phi2')\n",
    "plt.legend()\n",
    "plt.show()"
   ]
  },
  {
   "cell_type": "code",
   "execution_count": 9,
   "metadata": {},
   "outputs": [],
   "source": [
    "plt.plot(sigmas[:, 0], label='Sigma: phi1')\n",
    "plt.plot(sigmas[:, 1], label='Sigma: phi2')\n",
    "plt.legend()\n",
    "plt.show()"
   ]
  },
  {
   "cell_type": "code",
   "execution_count": null,
   "metadata": {},
   "outputs": [],
   "source": []
  },
  {
   "cell_type": "code",
   "execution_count": 10,
   "metadata": {},
   "outputs": [
    {
     "data": {
      "text/plain": [
       "[<matplotlib.lines.Line2D at 0x7fb5d18e1090>]"
      ]
     },
     "execution_count": 10,
     "metadata": {},
     "output_type": "execute_result"
    }
   ],
   "source": [
    "plt.plot(losses)"
   ]
  },
  {
   "cell_type": "code",
   "execution_count": 11,
   "metadata": {},
   "outputs": [
    {
     "data": {
      "text/plain": [
       "0.5193803066738278"
      ]
     },
     "execution_count": 11,
     "metadata": {},
     "output_type": "execute_result"
    }
   ],
   "source": [
    "exp.reset()\n",
    "exp.run_all(best_program.numpy(), [.25, 33.25])\n",
    "exp.print_analytes(rc=(7, 5), title=\"Best Result\")\n",
    "exp.loss()"
   ]
  },
  {
   "cell_type": "code",
   "execution_count": 12,
   "metadata": {},
   "outputs": [],
   "source": [
    "X, Y, Loss_field = loss_field(exp, N = 100)"
   ]
  },
  {
   "cell_type": "code",
   "execution_count": 27,
   "metadata": {},
   "outputs": [],
   "source": [
    "fig, ax = plt.subplots()\n",
    "plt.contourf(X, Y, Loss_field, levels=100)\n",
    "plt.colorbar()\n",
    "\n",
    "line, = plt.plot(mus[:, 0], mus[:, 1], color='k')\n",
    "scat = plt.scatter(samples[:, 0], samples[:, 1], c='r', s=1)\n",
    "\n",
    "def update(num, mu, samples, line, scat):\n",
    "    line.set_data(mu[num-2:num, 0], mu[num-2:num, 1])\n",
    "    line.axes.axis([0, 1, 0, 1])\n",
    "    scat.set_offsets(samples[(num-2)*10: num*10 - 10, :])\n",
    "    return line,\n",
    "\n",
    "ani = animation.FuncAnimation(fig, update, len(mus[:, 0]), fargs=[mus, samples, line, scat],\n",
    "                              interval=10, blit=False)\n",
    "plt.show()"
   ]
  },
  {
   "cell_type": "code",
   "execution_count": 23,
   "metadata": {},
   "outputs": [],
   "source": [
    "import matplotlib.patches as patches\n",
    "\n",
    "fig, ax = plt.subplots()\n",
    "ax.set_ylim(0, 1)\n",
    "ax.set_xlim(0, 1)\n",
    "plt.contourf(X, Y, Loss_field, levels=100)\n",
    "plt.colorbar()\n",
    "\n",
    "patch = patches.Arrow(mus[0, 0], mus[0, 1], mu_grads[0, 0], mu_grads[0, 1], width=0.02, color='k')\n",
    "scat1 = plt.scatter(samples[:, 0], samples[:, 1], c='r', s=5)\n",
    "scat2 = plt.scatter(mus[:, 0], mus[:, 1], c='b', s=20)\n",
    "def init():\n",
    "    ax.add_patch(patch)\n",
    "    return patch,\n",
    "\n",
    "def update(num, mu, samples, scat1, scat2, ax):\n",
    "    ax.patches.pop(0)\n",
    "    patch = patches.Arrow(mus[num-2, 0], mus[num-2, 1], mu_grads[num-2, 0], mu_grads[num-2, 1], width=0.01, color='k')\n",
    "    ax.add_patch(patch)\n",
    "    scat1.set_offsets(samples[(num-2)*10: num*10, :])\n",
    "    scat2.set_offsets(mu[num-2: num, :])\n",
    "    return scat1,\n",
    "\n",
    "ani = animation.FuncAnimation(fig, update, len(mus[:, 0]), fargs=[mus, samples, scat1, scat2, ax],\n",
    "                              interval=1000, blit=False, init_func=init)\n"
   ]
  },
  {
   "cell_type": "code",
   "execution_count": null,
   "metadata": {},
   "outputs": [],
   "source": [
    "N = -1\n",
    "mlab.surf(X.T[:N, :N], Y.T[:N, :N], Loss_field.T[:N, :N])"
   ]
  },
  {
   "cell_type": "code",
   "execution_count": null,
   "metadata": {},
   "outputs": [],
   "source": [
    "n=3\n",
    "\n",
    "plt.scatter(samples[n*10:10+10*n ,0], samples[n*10:10+10*n,1], s=1.,c='r')\n",
    "plt.arrow(mus[n,0], mus[n,1], mu_grads[n,0], mu_grads[n,1], length_includes_head=True, head_width=0.04, head_length=0.2)\n",
    "plt.scatter(mus[n:n+2, 0], mus[n:n+2, 1])\n",
    "plt.xlim((0, 1))\n",
    "plt.ylim((0, 1))"
   ]
  },
  {
   "cell_type": "code",
   "execution_count": null,
   "metadata": {},
   "outputs": [],
   "source": [
    "phis = np.linspace(0, 1, 1000)\n",
    "losses = []\n",
    "for phi1 in phis:\n",
    "    exp.reset()\n",
    "    exp.run_all([0.2, phi1], [0.25, 3000000])\n",
    "    losses.append(exp.loss())\n",
    "plt.plot(losses[:])"
   ]
  },
  {
   "cell_type": "code",
   "execution_count": null,
   "metadata": {},
   "outputs": [],
   "source": [
    "plt.contourf(X, Y, Loss_field, levels=100)"
   ]
  },
  {
   "cell_type": "code",
   "execution_count": null,
   "metadata": {},
   "outputs": [],
   "source": []
  },
  {
   "cell_type": "code",
   "execution_count": null,
   "metadata": {},
   "outputs": [],
   "source": []
  },
  {
   "cell_type": "code",
   "execution_count": null,
   "metadata": {},
   "outputs": [],
   "source": []
  },
  {
   "cell_type": "code",
   "execution_count": null,
   "metadata": {},
   "outputs": [],
   "source": []
  },
  {
   "cell_type": "code",
   "execution_count": null,
   "metadata": {},
   "outputs": [],
   "source": []
  },
  {
   "cell_type": "code",
   "execution_count": null,
   "metadata": {},
   "outputs": [],
   "source": []
  },
  {
   "cell_type": "code",
   "execution_count": null,
   "metadata": {},
   "outputs": [],
   "source": []
  },
  {
   "cell_type": "code",
   "execution_count": null,
   "metadata": {},
   "outputs": [],
   "source": [
    "exp_ = ExperimentAnalytes(k0 = alist_.k0.values, S = alist_.S.values, h=0.001, grad='iso', run_time=None)\n",
    "pol_ = Policy(2, sigma_max = 0.2)\n",
    "losses_, best_program_, mus_, sigmas_, n_pars_ = reinforce(\n",
    "        exp_, \n",
    "        pol_, \n",
    "        [.25, 33.25], \n",
    "        num_episodes=3000, \n",
    "        batch_size=10,\n",
    "        optim=lambda a, b: torch.optim.SGD(a, b),\n",
    "        lr=.1, \n",
    "        print_every=300,\n",
    "        lr_decay=lambda a, b, c: step_decay(a, b, c, steps=4, decay_factor=1.2),\n",
    "        baseline=0.3\n",
    "    )"
   ]
  },
  {
   "cell_type": "code",
   "execution_count": null,
   "metadata": {},
   "outputs": [],
   "source": [
    "exp_.reset()\n",
    "exp_.run_all(pol_.mu.detach().numpy(), [0.25, 3000000])\n",
    "exp_.print_analytes(rc=(7, 5))\n",
    "exp_.loss()"
   ]
  },
  {
   "cell_type": "code",
   "execution_count": null,
   "metadata": {},
   "outputs": [],
   "source": [
    "plt.plot(mus_[:, 0], label='Mu: phi1')\n",
    "plt.plot(mus_[:, 1], label='Mu: phi2')\n",
    "plt.legend()\n",
    "plt.show()"
   ]
  },
  {
   "cell_type": "code",
   "execution_count": null,
   "metadata": {},
   "outputs": [],
   "source": [
    "plt.plot(sigmas_[:, 0], label='Sigma: phi1')\n",
    "plt.plot(sigmas_[:, 1], label='Sigma: phi2')\n",
    "plt.legend()\n",
    "plt.show()"
   ]
  },
  {
   "cell_type": "code",
   "execution_count": null,
   "metadata": {},
   "outputs": [],
   "source": [
    "plt.plot(losses_)"
   ]
  },
  {
   "cell_type": "code",
   "execution_count": null,
   "metadata": {},
   "outputs": [],
   "source": [
    "exp_.reset()\n",
    "exp_.run_all(best_program_.numpy(), [.25, 33.25])\n",
    "exp_.print_analytes(rc=(7, 5), title=\"Best Result\")\n",
    "exp_.loss()"
   ]
  },
  {
   "cell_type": "code",
   "execution_count": null,
   "metadata": {},
   "outputs": [],
   "source": [
    "X_, Y_, Loss_field_ = loss_field(exp_, N = 100)"
   ]
  },
  {
   "cell_type": "code",
   "execution_count": null,
   "metadata": {},
   "outputs": [],
   "source": [
    "fig, ax = plt.subplots()\n",
    "plt.contourf(X_, Y_, Loss_field_, levels=100)\n",
    "plt.colorbar()\n",
    "line, = plt.plot(mus_[:, 0], mus_[:, 1], color='k')\n",
    "\n",
    "def update(num, x, y, line):\n",
    "    line.set_data(x[num-25:num], y[num-25:num])\n",
    "    line.axes.axis([0, 1, 0, 1])\n",
    "    return line,\n",
    "\n",
    "ani = animation.FuncAnimation(fig, update, len(mus_[:, 0]), fargs=[mus_[:, 0], mus_[:, 1], line],\n",
    "                              interval=1, blit=False)\n",
    "plt.show()"
   ]
  },
  {
   "cell_type": "code",
   "execution_count": null,
   "metadata": {},
   "outputs": [],
   "source": [
    "N = -1\n",
    "mlab.surf(X_.T[:N, :N], Y_.T[:N, :N], Loss_field_.T[:N, :N])"
   ]
  },
  {
   "cell_type": "code",
   "execution_count": null,
   "metadata": {},
   "outputs": [],
   "source": []
  },
  {
   "cell_type": "code",
   "execution_count": null,
   "metadata": {},
   "outputs": [],
   "source": []
  },
  {
   "cell_type": "code",
   "execution_count": null,
   "metadata": {},
   "outputs": [],
   "source": []
  },
  {
   "cell_type": "code",
   "execution_count": null,
   "metadata": {},
   "outputs": [],
   "source": []
  },
  {
   "cell_type": "code",
   "execution_count": null,
   "metadata": {},
   "outputs": [],
   "source": []
  },
  {
   "cell_type": "code",
   "execution_count": null,
   "metadata": {},
   "outputs": [],
   "source": []
  },
  {
   "cell_type": "code",
   "execution_count": null,
   "metadata": {},
   "outputs": [],
   "source": [
    "exp = ExperimentAnalytes(k0 = alist.k0.values, S = alist.S.values, h=0.001, grad='iso', run_time=None)\n",
    "pol = PolicyTime(2)\n",
    "losses, best_program, mus, sigmas, n_par = reinforce_delta_tau(\n",
    "        exp, \n",
    "        pol,\n",
    "        num_episodes=5000, \n",
    "        batch_size=10,\n",
    "        optim=torch.optim.SGD,\n",
    "        lr=.2, \n",
    "        print_every=200,\n",
    "        lr_decay=lambda a, b, c: step_decay(a, b, c, steps=5, decay_factor=1.05),\n",
    "        baseline=0.15,\n",
    "    )\n",
    "exp.print_analytes(rc=(7, 5))"
   ]
  },
  {
   "cell_type": "code",
   "execution_count": null,
   "metadata": {},
   "outputs": [],
   "source": [
    "exp.reset()\n",
    "exp.run_all(best_program[0], best_program[1])\n",
    "exp.print_analytes(rc=(7, 5))\n",
    "exp.loss()"
   ]
  },
  {
   "cell_type": "code",
   "execution_count": null,
   "metadata": {},
   "outputs": [],
   "source": [
    "plt.plot(losses)"
   ]
  },
  {
   "cell_type": "code",
   "execution_count": null,
   "metadata": {},
   "outputs": [],
   "source": [
    "plt.plot(mus[:, 0], label='Mu: 0')\n",
    "plt.plot(mus[:, 1], label='Mu: 1')\n",
    "plt.plot(mus[:, 2], label='Mu: 2')\n",
    "plt.legend()\n",
    "plt.show()"
   ]
  },
  {
   "cell_type": "code",
   "execution_count": null,
   "metadata": {},
   "outputs": [],
   "source": [
    "plt.plot(sigmas[:, 0], label='Sigma: 0')\n",
    "plt.plot(sigmas[:, 1], label='Sigma: 1')\n",
    "plt.plot(sigmas[:, 2], label='Sigma: 2')\n",
    "plt.legend()\n",
    "plt.show()"
   ]
  },
  {
   "cell_type": "code",
   "execution_count": null,
   "metadata": {},
   "outputs": [],
   "source": []
  },
  {
   "cell_type": "code",
   "execution_count": null,
   "metadata": {},
   "outputs": [],
   "source": []
  }
 ],
 "metadata": {
  "kernelspec": {
   "display_name": "Python 3",
   "language": "python",
   "name": "python3"
  },
  "language_info": {
   "codemirror_mode": {
    "name": "ipython",
    "version": 3
   },
   "file_extension": ".py",
   "mimetype": "text/x-python",
   "name": "python",
   "nbconvert_exporter": "python",
   "pygments_lexer": "ipython3",
   "version": "3.7.6"
  }
 },
 "nbformat": 4,
 "nbformat_minor": 2
}
