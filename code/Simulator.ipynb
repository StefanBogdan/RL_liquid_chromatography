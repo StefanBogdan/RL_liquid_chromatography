{
 "cells": [
  {
   "cell_type": "markdown",
   "metadata": {},
   "source": [
    "## Library imports"
   ]
  },
  {
   "cell_type": "code",
   "execution_count": 1,
   "metadata": {},
   "outputs": [],
   "source": [
    "%load_ext autoreload\n",
    "%autoreload 2"
   ]
  },
  {
   "cell_type": "code",
   "execution_count": 2,
   "metadata": {
    "scrolled": true
   },
   "outputs": [],
   "source": [
    "import numpy as np\n",
    "import pandas as pd\n",
    "from chromatography import *\n",
    "from torch import optim, tensor\n",
    "import matplotlib.pyplot as plt\n",
    "import matplotlib.animation as animation\n",
    "%matplotlib qt"
   ]
  },
  {
   "cell_type": "markdown",
   "metadata": {},
   "source": [
    "## Dataset Import"
   ]
  },
  {
   "cell_type": "code",
   "execution_count": 3,
   "metadata": {},
   "outputs": [],
   "source": [
    "alist = pd.read_csv('../data/Roca.csv')"
   ]
  },
  {
   "cell_type": "markdown",
   "metadata": {},
   "source": [
    "## Useful functions definition"
   ]
  },
  {
   "cell_type": "code",
   "execution_count": 4,
   "metadata": {},
   "outputs": [],
   "source": [
    "def step_decay(lr, iteration, num_episodes, steps=10, decay_factor=1.5):\n",
    "    if iteration % (num_episodes // steps) == 0:\n",
    "        return lr / decay_factor\n",
    "    \n",
    "    return lr"
   ]
  },
  {
   "cell_type": "code",
   "execution_count": 5,
   "metadata": {},
   "outputs": [],
   "source": [
    "def loss_field(exp, N = 200):\n",
    "    phis = np.linspace(0, 1, N)\n",
    "    losses = np.zeros((N, N))\n",
    "    j = 0\n",
    "    for phi1 in phis:\n",
    "        i = 0\n",
    "        for phi2 in phis:\n",
    "            exp.reset()\n",
    "            exp.run_all([phi1, phi2], [0.25, 3000000])\n",
    "            losses[i, j] = exp.loss()\n",
    "            i += 1\n",
    "        j += 1\n",
    "    X, Y = np.meshgrid(phis, phis)\n",
    "    \n",
    "    return X, Y, losses"
   ]
  },
  {
   "cell_type": "code",
   "execution_count": 12,
   "metadata": {},
   "outputs": [
    {
     "name": "stdout",
     "output_type": "stream",
     "text": [
      "Loss: 1.746980851045825, epoch: 50/3000\n",
      "Loss: 1.716374707881857, epoch: 100/3000\n",
      "Loss: 1.6597573468068367, epoch: 150/3000\n",
      "Loss: 1.3737389641281434, epoch: 200/3000\n",
      "Loss: 1.092781948586603, epoch: 250/3000\n",
      "Loss: 0.9939358965688538, epoch: 300/3000\n",
      "Loss: 0.888126129294204, epoch: 350/3000\n",
      "Loss: 0.8263639242687576, epoch: 400/3000\n",
      "Loss: 0.7811212753875661, epoch: 450/3000\n",
      "Loss: 0.7293571459027924, epoch: 500/3000\n",
      "Loss: 0.6860798181171397, epoch: 550/3000\n",
      "Loss: 0.6499567060487806, epoch: 600/3000\n",
      "Loss: 0.6192131304872321, epoch: 650/3000\n",
      "Loss: 0.5965960466791934, epoch: 700/3000\n",
      "Loss: 0.5724542318956334, epoch: 750/3000\n",
      "Loss: 0.56484819481644, epoch: 800/3000\n",
      "Loss: 0.5470365052201063, epoch: 850/3000\n",
      "Loss: 0.5417000259471177, epoch: 900/3000\n",
      "Loss: 0.5339020550264203, epoch: 950/3000\n",
      "Loss: 0.53043602543816, epoch: 1000/3000\n",
      "Loss: 0.525334900178863, epoch: 1050/3000\n",
      "Loss: 0.5194614993302298, epoch: 1100/3000\n",
      "Loss: 0.5097636177569084, epoch: 1150/3000\n",
      "Loss: 0.5070234854270702, epoch: 1200/3000\n",
      "Loss: 0.4969996831796434, epoch: 1250/3000\n",
      "Loss: 0.49530942168308595, epoch: 1300/3000\n",
      "Loss: 0.4926842993052527, epoch: 1350/3000\n",
      "Loss: 0.48975599602181885, epoch: 1400/3000\n",
      "Loss: 0.4790123276016537, epoch: 1450/3000\n",
      "Loss: 0.47977437434888526, epoch: 1500/3000\n",
      "Loss: 0.475294177282328, epoch: 1550/3000\n",
      "Loss: 0.46922108515221816, epoch: 1600/3000\n",
      "Loss: 0.4600784339777052, epoch: 1650/3000\n",
      "Loss: 0.45720224276634885, epoch: 1700/3000\n",
      "Loss: 0.44758401955387783, epoch: 1750/3000\n",
      "Loss: 0.43789694126498413, epoch: 1800/3000\n",
      "Loss: 0.4326269761250431, epoch: 1850/3000\n",
      "Loss: 0.42501631741004287, epoch: 1900/3000\n",
      "Loss: 0.4195511903878857, epoch: 1950/3000\n",
      "Loss: 0.4125332055592036, epoch: 2000/3000\n",
      "Loss: 0.4085658168168808, epoch: 2050/3000\n",
      "Loss: 0.40895605029423654, epoch: 2100/3000\n",
      "Loss: 0.4035958036169198, epoch: 2150/3000\n",
      "Loss: 0.3993616692856871, epoch: 2200/3000\n",
      "Loss: 0.39625479562565213, epoch: 2250/3000\n",
      "Loss: 0.393674142123333, epoch: 2300/3000\n",
      "Loss: 0.39441115721150616, epoch: 2350/3000\n",
      "Loss: 0.38926183080745114, epoch: 2400/3000\n",
      "Loss: 0.3856698419586247, epoch: 2450/3000\n",
      "Loss: 0.3889482143963184, epoch: 2500/3000\n",
      "Loss: 0.38383713365069905, epoch: 2550/3000\n",
      "Loss: 0.38325764016689146, epoch: 2600/3000\n",
      "Loss: 0.3850663164168623, epoch: 2650/3000\n",
      "Loss: 0.38891351432399274, epoch: 2700/3000\n",
      "Loss: 0.3801858234980735, epoch: 2750/3000\n",
      "Loss: 0.3797834082036444, epoch: 2800/3000\n",
      "Loss: 0.37931314718325565, epoch: 2850/3000\n",
      "Loss: 0.3753865690417145, epoch: 2900/3000\n",
      "Loss: 0.3793278192114725, epoch: 2950/3000\n",
      "Loss: 0.3781108485035171, epoch: 3000/3000\n"
     ]
    }
   ],
   "source": [
    "exp = ExperimentAnalytes(k0 = alist.k0.values, S = alist.S.values, h=0.001, grad='iso', run_time=None)\n",
    "pol = Policy(2)\n",
    "losses, best_program, mus, sigmas, n_pars = reinforce(\n",
    "        exp, \n",
    "        pol, \n",
    "        [.25, 33.25], \n",
    "        num_episodes=3000, \n",
    "        batch_size=30,\n",
    "        optim=lambda a, b: torch.optim.SGD(a, b, momentum=2),\n",
    "        lr=.1, \n",
    "        print_every=50,\n",
    "        lr_decay=lambda a, b, c: step_decay(a, b, c, steps=4, decay_factor=1.2),\n",
    "        baseline=0.5\n",
    "    )"
   ]
  },
  {
   "cell_type": "code",
   "execution_count": 16,
   "metadata": {},
   "outputs": [
    {
     "data": {
      "text/plain": [
       "0.357462037473586"
      ]
     },
     "execution_count": 16,
     "metadata": {},
     "output_type": "execute_result"
    }
   ],
   "source": [
    "exp.reset()\n",
    "exp.run_all(pol.mu.detach().numpy(), [0.25, 3000000])\n",
    "exp.print_analytes(rc=(7, 5))\n",
    "exp.loss()"
   ]
  },
  {
   "cell_type": "code",
   "execution_count": 8,
   "metadata": {},
   "outputs": [],
   "source": [
    "plt.plot(mus[:, 0], label='Mu: phi1')\n",
    "plt.plot(mus[:, 1], label='Mu: phi2')\n",
    "plt.legend()\n",
    "plt.show()"
   ]
  },
  {
   "cell_type": "code",
   "execution_count": 9,
   "metadata": {},
   "outputs": [],
   "source": [
    "plt.plot(sigmas[:, 0], label='Sigma: phi1')\n",
    "plt.plot(sigmas[:, 1], label='Sigma: phi2')\n",
    "plt.legend()\n",
    "plt.show()"
   ]
  },
  {
   "cell_type": "code",
   "execution_count": null,
   "metadata": {},
   "outputs": [],
   "source": []
  },
  {
   "cell_type": "code",
   "execution_count": null,
   "metadata": {},
   "outputs": [],
   "source": [
    "plt.plot(losses)"
   ]
  },
  {
   "cell_type": "code",
   "execution_count": 15,
   "metadata": {},
   "outputs": [
    {
     "data": {
      "text/plain": [
       "0.35164982424833197"
      ]
     },
     "execution_count": 15,
     "metadata": {},
     "output_type": "execute_result"
    }
   ],
   "source": [
    "exp.reset()\n",
    "exp.run_all(best_program.numpy(), [.25, 33.25])\n",
    "exp.print_analytes(rc=(7, 5), title=\"Best Result\")\n",
    "exp.loss()"
   ]
  },
  {
   "cell_type": "code",
   "execution_count": null,
   "metadata": {},
   "outputs": [],
   "source": [
    "#Y[np.unravel_index(np.argmin(Loss_field), Loss_field.shape)]"
   ]
  },
  {
   "cell_type": "code",
   "execution_count": 10,
   "metadata": {},
   "outputs": [],
   "source": [
    "X, Y, Loss_field = loss_field(exp, N = 300)"
   ]
  },
  {
   "cell_type": "code",
   "execution_count": 13,
   "metadata": {},
   "outputs": [],
   "source": [
    "fig, ax = plt.subplots()\n",
    "plt.contourf(X, Y, Loss_field, levels=100)\n",
    "plt.colorbar()\n",
    "line, = plt.plot(mus[:, 0], mus[:, 1], color='k')\n",
    "\n",
    "def update(num, x, y, line):\n",
    "    line.set_data(x[num-25:num], y[num-25:num])\n",
    "    line.axes.axis([0, 1, 0, 1])\n",
    "    return line,\n",
    "\n",
    "ani = animation.FuncAnimation(fig, update, len(mus[:, 0]), fargs=[mus[:, 0], mus[:, 1], line],\n",
    "                              interval=1, blit=False)\n",
    "plt.show()"
   ]
  },
  {
   "cell_type": "code",
   "execution_count": null,
   "metadata": {},
   "outputs": [],
   "source": [
    "from mayavi import mlab\n",
    "mlab.surf(X.T[0:50, 0:50], Y.T[0:50, 0:50], Loss_field[0:50, 0:50])"
   ]
  },
  {
   "cell_type": "code",
   "execution_count": null,
   "metadata": {},
   "outputs": [],
   "source": []
  },
  {
   "cell_type": "code",
   "execution_count": null,
   "metadata": {},
   "outputs": [],
   "source": []
  },
  {
   "cell_type": "code",
   "execution_count": null,
   "metadata": {},
   "outputs": [],
   "source": []
  },
  {
   "cell_type": "code",
   "execution_count": null,
   "metadata": {},
   "outputs": [],
   "source": []
  },
  {
   "cell_type": "code",
   "execution_count": null,
   "metadata": {},
   "outputs": [],
   "source": []
  },
  {
   "cell_type": "code",
   "execution_count": null,
   "metadata": {},
   "outputs": [],
   "source": [
    "exp = ExperimentAnalytes(k0 = alist.k0.values, S = alist.S.values, h=0.001, grad='iso', run_time=None)\n",
    "pol = PolicyTime(2)\n",
    "losses, best_program, mus, sigmas, n_par = reinforce_delta_tau(\n",
    "        exp, \n",
    "        pol,\n",
    "        num_episodes=5000, \n",
    "        batch_size=10,\n",
    "        optim=torch.optim.SGD,\n",
    "        lr=.2, \n",
    "        print_every=200,\n",
    "        lr_decay=lambda a, b, c: step_decay(a, b, c, steps=5, decay_factor=1.05),\n",
    "        baseline=0.15,\n",
    "    )\n",
    "exp.print_analytes(rc=(7, 5))"
   ]
  },
  {
   "cell_type": "code",
   "execution_count": null,
   "metadata": {},
   "outputs": [],
   "source": [
    "exp.reset()\n",
    "exp.run_all(best_program[0], best_program[1])\n",
    "exp.print_analytes(rc=(7, 5))\n",
    "exp.loss()"
   ]
  },
  {
   "cell_type": "code",
   "execution_count": null,
   "metadata": {},
   "outputs": [],
   "source": [
    "plt.plot(losses)"
   ]
  },
  {
   "cell_type": "code",
   "execution_count": null,
   "metadata": {},
   "outputs": [],
   "source": [
    "plt.plot(mus[:, 0], label='Mu: 0')\n",
    "plt.plot(mus[:, 1], label='Mu: 1')\n",
    "plt.plot(mus[:, 2], label='Mu: 2')\n",
    "plt.legend()\n",
    "plt.show()"
   ]
  },
  {
   "cell_type": "code",
   "execution_count": null,
   "metadata": {},
   "outputs": [],
   "source": [
    "plt.plot(sigmas[:, 0], label='Sigma: 0')\n",
    "plt.plot(sigmas[:, 1], label='Sigma: 1')\n",
    "plt.plot(sigmas[:, 2], label='Sigma: 2')\n",
    "plt.legend()\n",
    "plt.show()"
   ]
  },
  {
   "cell_type": "code",
   "execution_count": null,
   "metadata": {},
   "outputs": [],
   "source": []
  },
  {
   "cell_type": "code",
   "execution_count": null,
   "metadata": {},
   "outputs": [],
   "source": []
  }
 ],
 "metadata": {
  "kernelspec": {
   "display_name": "Python 3",
   "language": "python",
   "name": "python3"
  },
  "language_info": {
   "codemirror_mode": {
    "name": "ipython",
    "version": 3
   },
   "file_extension": ".py",
   "mimetype": "text/x-python",
   "name": "python",
   "nbconvert_exporter": "python",
   "pygments_lexer": "ipython3",
   "version": "3.7.6"
  }
 },
 "nbformat": 4,
 "nbformat_minor": 2
}
