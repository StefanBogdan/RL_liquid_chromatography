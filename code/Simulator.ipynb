{
 "cells": [
  {
   "cell_type": "markdown",
   "metadata": {},
   "source": [
    "## Library imports"
   ]
  },
  {
   "cell_type": "code",
   "execution_count": 2,
   "metadata": {
    "scrolled": true
   },
   "outputs": [],
   "source": [
    "import numpy as np\n",
    "import pandas as pd"
   ]
  },
  {
   "cell_type": "markdown",
   "metadata": {},
   "source": [
    "## Dataset Import"
   ]
  },
  {
   "cell_type": "code",
   "execution_count": 3,
   "metadata": {},
   "outputs": [],
   "source": [
    "alist = pd.read_csv('../data/Peter32.csv')"
   ]
  },
  {
   "cell_type": "markdown",
   "metadata": {},
   "source": [
    "## Useful functions definition"
   ]
  },
  {
   "cell_type": "code",
   "execution_count": 4,
   "metadata": {},
   "outputs": [],
   "source": [
    "def sig(height, mu):\n",
    "    return np.sqrt((mu^2) * height)"
   ]
  },
  {
   "cell_type": "code",
   "execution_count": 5,
   "metadata": {},
   "outputs": [],
   "source": [
    "def pl_error(result_list):\n",
    "    list_len = result_list.shape[0]\n",
    "    true_positions = np.arange(1, list_len + 1)/list_len\n",
    "    positions = result_list[:, 0]\n",
    "    return np.abs(positions - true_positions).sum() / (0.5 * (list_len - 1))"
   ]
  },
  {
   "cell_type": "code",
   "execution_count": 6,
   "metadata": {},
   "outputs": [],
   "source": [
    "def k(k0, S, phi):\n",
    "    return (10 ** (-phi * S)) * k0"
   ]
  },
  {
   "cell_type": "code",
   "execution_count": 7,
   "metadata": {},
   "outputs": [],
   "source": [
    "def xk(k0, S, phi, dt):\n",
    "    return dt /(k(k0, S, phi) + 1)"
   ]
  },
  {
   "cell_type": "code",
   "execution_count": 8,
   "metadata": {},
   "outputs": [],
   "source": [
    "def iso_list(anlist, phi):\n",
    "    k0 = anlist[:,1]\n",
    "    S = anlist[:,2]\n",
    "    dt =  (1 - 2 * np.sqrt(0.001))\n",
    "    return np.sort(dt /((10 ** (-phi * S)) * k0 + 1))"
   ]
  },
  {
   "cell_type": "code",
   "execution_count": 9,
   "metadata": {},
   "outputs": [],
   "source": [
    "def iso_spot(anlist, phi):\n",
    "    return pl_error(iso_list(anlist, phi))"
   ]
  },
  {
   "cell_type": "code",
   "execution_count": 10,
   "metadata": {},
   "outputs": [],
   "source": [
    "def int_(ud, sigd, ua, siga):\n",
    "    return (2 * siga ** 2 * sigd - 2 * siga * sigd ** 2 \\\n",
    "            + sigd ** 2 * ua + sigda ** 2 * ud)\\\n",
    "            / ( siga ** 2 + sigd ** 2)\n"
   ]
  },
  {
   "cell_type": "code",
   "execution_count": 11,
   "metadata": {},
   "outputs": [],
   "source": [
    "def bl(ud, sigd, ua, siga):\n",
    "    first = int_(ud, sigd, ua, siga)\n",
    "    second = ua - 2 * siga\n",
    "    return np.stack([first,second], axis=1).max(axis=1)"
   ]
  },
  {
   "cell_type": "code",
   "execution_count": 12,
   "metadata": {},
   "outputs": [],
   "source": [
    "def bu(ud, sigd, ua, siga):\n",
    "    first = int_(ud, sigd, ua, siga)\n",
    "    second = ud + 2 * sigd\n",
    "    return np.stack([first,second], axis=1).min(axis=1)"
   ]
  },
  {
   "cell_type": "code",
   "execution_count": 13,
   "metadata": {},
   "outputs": [],
   "source": [
    "def cushlist(res_list):\n",
    "    return np.concatenate([ np.array([\n",
    "        0, 10 ** -10]).reshape(1, -1),\n",
    "        res_list,\n",
    "        np.array([1, 10 ** -10]).reshape(1, -1)])"
   ]
  },
  {
   "cell_type": "code",
   "execution_count": 44,
   "metadata": {},
   "outputs": [],
   "source": [
    "def poi(res_list):\n",
    "    np.stack(\n",
    "        [\n",
    "            bl(res_list[:-2, 0], res_list[:-2, 1], res_list[1:-1, 0], res_list[1:-1, 1]),\n",
    "            res_list[1:-1, 0],\n",
    "            bu(res_list[1:-1, 0], res_list[1:-1, 1], res_list[2:, 0], res_list[2:, 1])\n",
    "        ],\n",
    "        axis=1 ###???\n",
    "       )"
   ]
  },
  {
   "cell_type": "code",
   "execution_count": 50,
   "metadata": {},
   "outputs": [],
   "source": [
    "def yval(x_list, chrom):\n",
    "\n",
    "    denominator = 4 * chrom[:, 1] ** 2\n",
    "    temp_1 = np.abs(x_list[:, 0] - x_list[:1])\n",
    "    temp_1[temp_1 > chrom[:1]] = 0\n",
    "    temp_1 /= denominator\n",
    "    \n",
    "    temp_2 = 1/(2 * chrom[:, 1])\n",
    "    \n",
    "    temp_3 = np.abs(x_list[:, 1] - x_list[:, 1])\n",
    "    temp_3[np.abs(x_list[:, 2] - x_list[:1]) > chrom[:1]] = 0\n",
    "    temp_3 /= denominator\n",
    "    \n",
    "    return np.stack([temp_1, temp_2, temp_3], axis=1)\n"
   ]
  },
  {
   "cell_type": "code",
   "execution_count": 51,
   "metadata": {},
   "outputs": [],
   "source": [
    "def narea(main_list, x_list, y_list):\n",
    "    return 1 - ((y_list[:, 1] - y_list[:, 0])*(x_list[:, 1] - x_list[:, 0])\n",
    "            - (y_list[:, 2] - y_list[:, 1])*(x_list[:, 2] - x_list[:, 1]))/(2 * main_list.shape[0])"
   ]
  },
  {
   "cell_type": "code",
   "execution_count": 52,
   "metadata": {},
   "outputs": [],
   "source": [
    "def lfn(main_list, x_list, y_list):\n",
    "    return plerror(main_list) + narea(main_list, x_list, y_list)"
   ]
  },
  {
   "cell_type": "code",
   "execution_count": null,
   "metadata": {},
   "outputs": [],
   "source": [
    "def isoloss(an_list, phi, h):\n",
    "    pass"
   ]
  },
  {
   "cell_type": "code",
   "execution_count": null,
   "metadata": {},
   "outputs": [],
   "source": []
  },
  {
   "cell_type": "code",
   "execution_count": null,
   "metadata": {},
   "outputs": [],
   "source": []
  },
  {
   "cell_type": "code",
   "execution_count": null,
   "metadata": {},
   "outputs": [],
   "source": []
  },
  {
   "cell_type": "code",
   "execution_count": null,
   "metadata": {},
   "outputs": [],
   "source": []
  }
 ],
 "metadata": {
  "kernelspec": {
   "display_name": "Python 3",
   "language": "python",
   "name": "python3"
  },
  "language_info": {
   "codemirror_mode": {
    "name": "ipython",
    "version": 3
   },
   "file_extension": ".py",
   "mimetype": "text/x-python",
   "name": "python",
   "nbconvert_exporter": "python",
   "pygments_lexer": "ipython3",
   "version": "3.7.5"
  }
 },
 "nbformat": 4,
 "nbformat_minor": 2
}
