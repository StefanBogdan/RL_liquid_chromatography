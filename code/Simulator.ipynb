{
 "cells": [
  {
   "cell_type": "markdown",
   "metadata": {},
   "source": [
    "## Library imports"
   ]
  },
  {
   "cell_type": "code",
   "execution_count": 1,
   "metadata": {},
   "outputs": [],
   "source": [
    "%load_ext autoreload\n",
    "%autoreload 2"
   ]
  },
  {
   "cell_type": "code",
   "execution_count": 2,
   "metadata": {
    "scrolled": true
   },
   "outputs": [],
   "source": [
    "import numpy as np\n",
    "import pandas as pd\n",
    "import torch as t\n",
    "from chromatography import *\n",
    "%matplotlib inline"
   ]
  },
  {
   "cell_type": "markdown",
   "metadata": {},
   "source": [
    "## Dataset Import"
   ]
  },
  {
   "cell_type": "code",
   "execution_count": 3,
   "metadata": {},
   "outputs": [],
   "source": [
    "alist = pd.read_csv('../data/Peter32.csv')"
   ]
  },
  {
   "cell_type": "markdown",
   "metadata": {},
   "source": [
    "## Useful functions definition"
   ]
  },
  {
   "cell_type": "code",
   "execution_count": null,
   "metadata": {},
   "outputs": [],
   "source": [
    "run = ExperimentAnalytes(k0 = alist.k0.values[0:2], S = alist.S.values[0:2], h=0.001, grad='iso', run_time=None)"
   ]
  },
  {
   "cell_type": "code",
   "execution_count": null,
   "metadata": {},
   "outputs": [],
   "source": [
    "run.run_all([0.37, 0.31, 0.47], [.25, .25, .25])\n",
    "run.print_analytes(angle=50, rc=(13, 10))"
   ]
  },
  {
   "cell_type": "code",
   "execution_count": 4,
   "metadata": {},
   "outputs": [],
   "source": [
    "import torch \n",
    "import torch.nn as nn\n",
    "from torch import optim, tensor\n",
    "from torch.distributions.normal import Normal\n",
    "from torch.distributions.multivariate_normal import MultivariateNormal\n",
    "import matplotlib.pyplot as plt"
   ]
  },
  {
   "cell_type": "code",
   "execution_count": 364,
   "metadata": {},
   "outputs": [],
   "source": [
    "class Policy(nn.Module):\n",
    "    def __init__(self, n_param):\n",
    "        super(Policy, self).__init__()\n",
    "        self.n_param = n_param\n",
    "        \n",
    "        # Define network\n",
    "        self.fc_mu = nn.Linear(1, n_param, bias=False)\n",
    "        self.sig = nn.Sigmoid()\n",
    "        self.fc_sigma = nn.Linear(1, n_param, bias=False)\n",
    "        self.softplus = nn.Softplus()\n",
    "        \n",
    "        \n",
    "    def forward(self):\n",
    "        out = torch.ones((1,1))\n",
    "        self.mu = self.sig(self.fc_mu(out)).squeeze()\n",
    "        self.sigma = self.softplus(self.fc_sigma(out)).squeeze()\n",
    "        \n",
    "        return self.mu, self.sigma\n",
    "    \n",
    "    def sample(self, n_samples):\n",
    "        \n",
    "        if self.n_param == 1:\n",
    "            return (\n",
    "                Normal(\n",
    "                    self.mu, self.sigma\n",
    "                )\n",
    "                .sample((n_samples,))\n",
    "            )\n",
    "        else:\n",
    "            return (\n",
    "                MultivariateNormal(\n",
    "                    self.mu, torch.diag(self.sigma)\n",
    "                )\n",
    "                .sample((n_samples,))\n",
    "            )\n",
    "        #return (self.mu + actions * self.sigma).clone().detach()"
   ]
  },
  {
   "cell_type": "code",
   "execution_count": 329,
   "metadata": {},
   "outputs": [],
   "source": [
    "def reinforce_sample(exp, policy, delta_taus, positions, num_episodes=1000, batch_size=1, lr=0.001):\n",
    "\n",
    "    losses = []\n",
    "    mus = []\n",
    "    js = []\n",
    "    \n",
    "    # Optimizer\n",
    "    optimizer = optim.SGD(policy.parameters(), lr=lr)\n",
    "    for n in range(num_episodes):\n",
    "        # compute distribution parameters (Normal)\n",
    "        policy.forward()\n",
    "        mus.append(policy.mu.data)\n",
    "        # Sample some values from the actions distributions\n",
    "        \n",
    "        programs = policy.sample(1)\n",
    "        constr_programs = programs.clone()\n",
    "        constr_programs[constr_programs > 1] = 1\n",
    "        constr_programs[constr_programs < 0] = 0\n",
    "        exp.reset()            \n",
    "        exp.step(constr_programs[0].data.numpy(), delta_taus)\n",
    "        loss = placement_error(exp.positions[-1], positions)\n",
    "        J = placement_error(exp.positions[-1], positions) * log_prob(programs[0], policy.mu, policy.sigma)      \n",
    "        losses.append(loss)\n",
    "        optimizer.zero_grad()\n",
    "        # Calculate gradients\n",
    "        J.backward()\n",
    "        # Apply gradients\n",
    "        optimizer.step()\n",
    "    return losses, mus"
   ]
  },
  {
   "cell_type": "code",
   "execution_count": null,
   "metadata": {},
   "outputs": [],
   "source": []
  },
  {
   "cell_type": "code",
   "execution_count": null,
   "metadata": {},
   "outputs": [],
   "source": []
  },
  {
   "cell_type": "code",
   "execution_count": 559,
   "metadata": {},
   "outputs": [
    {
     "data": {
      "image/png": "[encoded data removed]",
      "text/plain": [
       "<Figure size 432x288 with 1 Axes>"
      ]
     },
     "metadata": {
      "needs_background": "light"
     },
     "output_type": "display_data"
    },
    {
     "name": "stdout",
     "output_type": "stream",
     "text": [
      "0.35935935935935936\n"
     ]
    }
   ],
   "source": [
    "exp_1 = ExperimentAnalytes(k0 = alist.k0.values[0:1], S = alist.S.values[0:1], h=0.001, grad='iso', run_time=0.5)\n",
    "phis = np.linspace(0, 1, 1000)\n",
    "Losses = []\n",
    "for phi in phis:\n",
    "    exp_1.reset()\n",
    "    exp_1.step(phi, 0.5)\n",
    "    Losses.append(placement_error(exp_1.positions[-1], [0.3]))\n",
    "\n",
    "plt.plot(phis, Losses)\n",
    "plt.show()\n",
    "print(phis[np.argmin(Losses)])"
   ]
  },
  {
   "cell_type": "code",
   "execution_count": null,
   "metadata": {},
   "outputs": [],
   "source": []
  },
  {
   "cell_type": "code",
   "execution_count": 560,
   "metadata": {},
   "outputs": [],
   "source": [
    "exp = ExperimentAnalytes(k0 = alist.k0.values[0:1], S = alist.S.values[0:1], h=0.001, grad='iso', run_time=0.5)\n",
    "pol = Policy(1)\n",
    "losses = []\n",
    "mus = []\n",
    "sigmas = []"
   ]
  },
  {
   "cell_type": "code",
   "execution_count": 564,
   "metadata": {},
   "outputs": [],
   "source": [
    "for i in range(20000):\n",
    "    lr = 0.01\n",
    "    if i > 10000 & i < 13500:\n",
    "        lr = 0.001\n",
    "    elif i >= 13500:\n",
    "        lr = 0.0001\n",
    "    pol.forward()\n",
    "    mus.append(pol.mu.data)\n",
    "    sigmas.append(pol.sigma.data)\n",
    "    # Sample some values from the actions distributions\n",
    "    optimizer = optim.SGD(pol.parameters(), lr=lr)\n",
    "    programs = pol.sample(1)\n",
    "    constr_programs = programs.clone()\n",
    "    constr_programs[constr_programs > 1] = 1\n",
    "    constr_programs[constr_programs < 0] = 0\n",
    "    exp.reset()            \n",
    "    exp.step(constr_programs[0].data.numpy(), 0.5)\n",
    "    loss = placement_error(exp.positions[-1], [0.3])\n",
    "    log = log_prob(programs[0], pol.mu, pol.sigma)       \n",
    "    J = (loss ) * log\n",
    "    losses.append(loss)\n",
    "    optimizer.zero_grad()\n",
    "    # Calculate gradients\n",
    "    J.backward()\n",
    "    # Apply gradients\n",
    "    optimizer.step()"
   ]
  },
  {
   "cell_type": "code",
   "execution_count": 565,
   "metadata": {},
   "outputs": [
    {
     "data": {
      "text/plain": [
       "<matplotlib.legend.Legend at 0x7f2620758f90>"
      ]
     },
     "execution_count": 565,
     "metadata": {},
     "output_type": "execute_result"
    },
    {
     "data": {
      "image/png": "[encoded data removed]",
      "text/plain": [
       "<Figure size 432x288 with 1 Axes>"
      ]
     },
     "metadata": {
      "needs_background": "light"
     },
     "output_type": "display_data"
    }
   ],
   "source": [
    "plt.plot(mus, label='Mus')\n",
    "plt.plot(sigmas, label='Sigmas')\n",
    "plt.legend()"
   ]
  },
  {
   "cell_type": "code",
   "execution_count": 566,
   "metadata": {},
   "outputs": [
    {
     "name": "stdout",
     "output_type": "stream",
     "text": [
      "tensor(0.0192) tensor(0.3636)\n"
     ]
    }
   ],
   "source": [
    "print(sigmas[-1], mus[-1])"
   ]
  },
  {
   "cell_type": "code",
   "execution_count": null,
   "metadata": {},
   "outputs": [],
   "source": []
  }
 ],
 "metadata": {
  "kernelspec": {
   "display_name": "Python 3",
   "language": "python",
   "name": "python3"
  },
  "language_info": {
   "codemirror_mode": {
    "name": "ipython",
    "version": 3
   },
   "file_extension": ".py",
   "mimetype": "text/x-python",
   "name": "python",
   "nbconvert_exporter": "python",
   "pygments_lexer": "ipython3",
   "version": "3.7.6"
  }
 },
 "nbformat": 4,
 "nbformat_minor": 2
}
